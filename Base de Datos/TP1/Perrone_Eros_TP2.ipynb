{
  "cells": [
    {
      "cell_type": "markdown",
      "source": [
        "# Código de inicialización\n",
        "Este código permite inicializar las bibliotecas para usar SQLite en la máquina virtual de Google Colab. El código además elimina cualquier dato almacenado anteriormente en el archvio `ejemplos.db`. Es recomendable volver a correr el código cada vez que se comience con la resolución de un nuevo ejercicio."
      ],
      "metadata": {
        "id": "QuMn1Lbbdz7p"
      },
      "id": "QuMn1Lbbdz7p"
    },
    {
      "cell_type": "code",
      "execution_count": 78,
      "metadata": {
        "id": "IFHmq0oNKLZQ",
        "colab": {
          "base_uri": "https://localhost:8080/"
        },
        "outputId": "056d9b9a-c1dc-4e4e-962b-564b7fa76f93"
      },
      "outputs": [
        {
          "output_type": "stream",
          "name": "stdout",
          "text": [
            "Requirement already satisfied: pymysql in /usr/local/lib/python3.10/dist-packages (1.1.1)\n",
            "The sql extension is already loaded. To reload it, use:\n",
            "  %reload_ext sql\n"
          ]
        }
      ],
      "source": [
        "!pip install pymysql\n",
        "%load_ext sql\n",
        "!rm -rf ejemplos.db\n",
        "%sql sqlite:///ejemplos.db"
      ],
      "id": "IFHmq0oNKLZQ"
    },
    {
      "cell_type": "markdown",
      "id": "4bfd6149",
      "metadata": {
        "id": "4bfd6149"
      },
      "source": [
        "# TP2: Ejercicios de SQL"
      ]
    },
    {
      "cell_type": "markdown",
      "id": "75f13c80",
      "metadata": {
        "id": "75f13c80"
      },
      "source": [
        "\n",
        "## EJERCICIO 1:  Base de datos para un club náutico\n",
        "\n",
        "### Descripción:\n",
        "Se quiere diseñar una base de datos relacional para gestionar los datos de los socios de un club náutico. De cada socio se guardan los datos personales y la información de los barcos que posee:\n",
        "- Número de matrícula, nombre, número de amarre, cuota.\n",
        "\n",
        "Además, se almacena información sobre las salidas realizadas por cada barco:\n",
        "- Fecha y hora de salida, destino y datos del patrón (que no tiene que ser el propietario ni un socio del club).\n",
        "\n",
        "### Esquema propuesto:\n",
        "- Tabla `Socios`: Almacena la información de los socios del club.\n",
        "- Tabla `Barcos`: Almacena la información de los barcos y sus propietarios.\n",
        "- Tabla `Salidas`: Almacena la información de las salidas realizadas por los barcos.\n",
        "\n",
        "### Esquema de tablas\n",
        "Este sería el esquema de tablas en lenguaje DBML\n",
        "\n",
        "```dbml\n",
        "Table Socios {\n",
        "    id_socio INT [pk]\n",
        "    nombre VARCHAR(100)\n",
        "    direccion VARCHAR(255)\n",
        "}\n",
        "\n",
        "Table Barcos {\n",
        "    matricula VARCHAR(20) [pk]\n",
        "    nombre VARCHAR(100)\n",
        "    numero_amarre INT\n",
        "    cuota DECIMAL(10, 2)\n",
        "    id_socio INT [ref: > Socios.id_socio]\n",
        "}\n",
        "\n",
        "Table Salidas {\n",
        "    id_salida INT [pk]\n",
        "    matricula VARCHAR(20) [ref: > Barcos.matricula]\n",
        "    fecha_salida DATE\n",
        "    hora_salida TIME\n",
        "    destino VARCHAR(100)\n",
        "    patron_nombre VARCHAR(100)\n",
        "    patron_direccion VARCHAR(255)\n",
        "}\n",
        "```\n",
        "\n",
        "### Escriba abajo el código SQL necesario para crear las tablas:\n",
        "\n"
      ]
    },
    {
      "cell_type": "code",
      "source": [
        "%%sql\n",
        "-- Tabla de socios\n",
        "CREATE TABLE Socios(\n",
        "    id_socio INT PRIMARY KEY,\n",
        "    nombre VARCHAR(100),\n",
        "    direccion VARCHAR(255));\n",
        "-- Tabla de Barcos\n",
        "CREATE TABLE Barcos(\n",
        "    matricula VARCHAR(20) PRIMARY KEY,\n",
        "    nombre VARCHAR(100),\n",
        "    numero_amarre INT,\n",
        "    cuota DECIMAL(10, 2),\n",
        "    id_socio INT,\n",
        "    FOREIGN KEY(id_socio) REFERENCES Socios(id_socio));\n",
        "--Tabla de Salidas\n",
        "CREATE TABLE Salidas(\n",
        "  id_salida INT PRIMARY KEY,\n",
        "  matricula VARCHAR(20),\n",
        "  fecha_salida DATE,\n",
        "  hora_salida TIME,\n",
        "  destino VARCHAR(100),\n",
        "  patron_nombre VARCHAR(100),\n",
        "  patron_direccion VARCHAR(255),\n",
        "  FOREIGN KEY(matricula) REFERENCES Barcos(matricula)\n",
        ");"
      ],
      "metadata": {
        "id": "WQJ1ZlDikHxc",
        "colab": {
          "base_uri": "https://localhost:8080/"
        },
        "outputId": "23782e6e-2e56-4656-a5c4-9ad3525c3b1b"
      },
      "id": "WQJ1ZlDikHxc",
      "execution_count": 79,
      "outputs": [
        {
          "output_type": "stream",
          "name": "stdout",
          "text": [
            " * sqlite:///ejemplos.db\n",
            "(sqlite3.OperationalError) attempt to write a readonly database\n",
            "[SQL: -- Tabla de socios\n",
            "CREATE TABLE Socios(\n",
            "    id_socio INT PRIMARY KEY,\n",
            "    nombre VARCHAR(100),\n",
            "    direccion VARCHAR(255));]\n",
            "(Background on this error at: https://sqlalche.me/e/20/e3q8)\n"
          ]
        }
      ]
    },
    {
      "cell_type": "markdown",
      "source": [
        "El código SQL de abajo le permite popular (es decir, rellenar) las tablas con datos."
      ],
      "metadata": {
        "id": "CvWQCFgMw6Aw"
      },
      "id": "CvWQCFgMw6Aw"
    },
    {
      "cell_type": "code",
      "source": [
        "%%sql\n",
        "-- Populación de las tablas\n",
        "INSERT INTO Socios (id_socio, nombre, direccion)\n",
        "VALUES\n",
        "(1, 'Juan Pérez', 'Calle Mayor 1, Madrid'),\n",
        "(2, 'Ana García', 'Calle Luna 5, Barcelona'),\n",
        "(3, 'Luis Fernández', 'Avenida del Sol 10, Valencia'),\n",
        "(4, 'Laura Sánchez', 'Plaza del Mar 3, Alicante'),\n",
        "(5, 'Carlos López', 'Calle Río 8, Sevilla'),\n",
        "(6, 'Marta Díaz', 'Calle de la Sierra 12, Zaragoza'),\n",
        "(7, 'Pedro Gómez', 'Calle Nueva 20, Bilbao'),\n",
        "(8, 'Lucía Jiménez', 'Calle Real 30, Madrid'),\n",
        "(9, 'María Torres', 'Calle Verde 15, Málaga'),\n",
        "(10, 'Fernando Martín', 'Calle Azul 25, Murcia');\n",
        "\n",
        "INSERT INTO Barcos (matricula, nombre, numero_amarre, cuota, id_socio)\n",
        "VALUES\n",
        "('ABC123', 'El Viento', 12, 600.50, 1),\n",
        "('DEF456', 'La Brisa', 8, 450.00, 2),\n",
        "('GHI789', 'El Sol', 15, 700.00, 3),\n",
        "('JKL012', 'El Mar', 10, 550.75, 4),\n",
        "('MNO345', 'La Luna', 18, 620.30, 5),\n",
        "('PQR678', 'El Horizonte', 20, 780.90, 6),\n",
        "('STU901', 'El Amanecer', 5, 400.00, 7),\n",
        "('VWX234', 'La Estrella', 7, 520.50, 8),\n",
        "('YZA567', 'La Marea', 14, 480.75, 9),\n",
        "('BCD890', 'El Océano', 6, 630.80, 10);\n",
        "\n",
        "INSERT INTO Salidas (id_salida, matricula, fecha_salida, hora_salida, destino, patron_nombre, patron_direccion)\n",
        "VALUES\n",
        "(1, 'ABC123', '2023-07-15', '10:30:00', 'Mallorca', 'Patrón 1', 'Calle de la Playa 1, Palma'),\n",
        "(2, 'DEF456', '2023-07-20', '09:00:00', 'Ibiza', 'Patrón 2', 'Avenida del Puerto 3, Valencia'),\n",
        "(3, 'GHI789', '2023-07-22', '08:45:00', 'Menorca', 'Patrón 3', 'Calle de la Costa 10, Alicante'),\n",
        "(4, 'JKL012', '2023-07-25', '11:15:00', 'Mallorca', 'Patrón 4', 'Plaza del Faro 5, Barcelona'),\n",
        "(5, 'MNO345', '2023-08-01', '14:00:00', 'Formentera', 'Patrón 5', 'Calle del Puerto 20, Ibiza'),\n",
        "(6, 'PQR678', '2023-08-05', '07:30:00', 'Mallorca', 'Patrón 6', 'Calle de las Olas 15, Palma'),\n",
        "(7, 'STU901', '2023-08-10', '12:00:00', 'Ibiza', 'Patrón 7', 'Avenida de la Marina 7, Barcelona'),\n",
        "(8, 'VWX234', '2023-08-12', '09:30:00', 'Cabrera', 'Patrón 8', 'Calle del Mar 12, Alicante'),\n",
        "(9, 'YZA567', '2023-08-15', '10:00:00', 'Formentera', 'Patrón 9', 'Calle del Sol 4, Ibiza'),\n",
        "(10, 'BCD890', '2023-08-20', '08:00:00', 'Menorca', 'Patrón 10', 'Plaza del Faro 2, Palma');\n"
      ],
      "metadata": {
        "id": "mGeEPoC8luIN",
        "colab": {
          "base_uri": "https://localhost:8080/"
        },
        "outputId": "ac81b8af-ee76-434a-a09d-eba71ba3213e"
      },
      "id": "mGeEPoC8luIN",
      "execution_count": 80,
      "outputs": [
        {
          "output_type": "stream",
          "name": "stdout",
          "text": [
            " * sqlite:///ejemplos.db\n",
            "(sqlite3.OperationalError) no such table: Socios\n",
            "[SQL: -- Populación de las tablas\n",
            "INSERT INTO Socios (id_socio, nombre, direccion)\n",
            "VALUES\n",
            "(1, 'Juan Pérez', 'Calle Mayor 1, Madrid'),\n",
            "(2, 'Ana García', 'Calle Luna 5, Barcelona'),\n",
            "(3, 'Luis Fernández', 'Avenida del Sol 10, Valencia'),\n",
            "(4, 'Laura Sánchez', 'Plaza del Mar 3, Alicante'),\n",
            "(5, 'Carlos López', 'Calle Río 8, Sevilla'),\n",
            "(6, 'Marta Díaz', 'Calle de la Sierra 12, Zaragoza'),\n",
            "(7, 'Pedro Gómez', 'Calle Nueva 20, Bilbao'),\n",
            "(8, 'Lucía Jiménez', 'Calle Real 30, Madrid'),\n",
            "(9, 'María Torres', 'Calle Verde 15, Málaga'),\n",
            "(10, 'Fernando Martín', 'Calle Azul 25, Murcia');]\n",
            "(Background on this error at: https://sqlalche.me/e/20/e3q8)\n"
          ]
        }
      ]
    },
    {
      "cell_type": "markdown",
      "source": [
        "### Resolver estas consignas sin usar JOIN:\n",
        "Estas consirgnas deben resolverse usando lo visto en la clase del lunes 16/09 antes de ver la parte de JOIN. Esto es: subconsultas, etc.\n",
        "1. ¿Qué socios tienen barcos amarrados en un número de amarre mayor que 10?"
      ],
      "metadata": {
        "id": "0ofA3-cklW_5"
      },
      "id": "0ofA3-cklW_5"
    },
    {
      "cell_type": "code",
      "source": [
        "%%sql\n",
        "SELECT nombre FROM Socios WHERE id_socio IN(SELECT id_socio FROM barcos WHERE numero_amarre > 10);"
      ],
      "metadata": {
        "id": "Kbdb2-U7lbJo",
        "colab": {
          "base_uri": "https://localhost:8080/"
        },
        "outputId": "27d09727-8a7c-4855-c029-64c8eb6d5784"
      },
      "id": "Kbdb2-U7lbJo",
      "execution_count": 81,
      "outputs": [
        {
          "output_type": "stream",
          "name": "stdout",
          "text": [
            " * sqlite:///ejemplos.db\n",
            "(sqlite3.OperationalError) no such table: Socios\n",
            "[SQL: SELECT nombre FROM Socios WHERE id_socio IN(SELECT id_socio FROM barcos WHERE numero_amarre > 10);]\n",
            "(Background on this error at: https://sqlalche.me/e/20/e3q8)\n"
          ]
        }
      ]
    },
    {
      "cell_type": "markdown",
      "source": [
        "2. ¿Cuáles son los nombres de los barcos y sus cuotas de aquellos barcos cuyo socio se llama 'Juan Pérez'?"
      ],
      "metadata": {
        "id": "mWRK4z1yl9-X"
      },
      "id": "mWRK4z1yl9-X"
    },
    {
      "cell_type": "code",
      "source": [
        "%%sql\n",
        "SELECT nombre,cuota FROM Barcos WHERE id_socio IN(SELECT id_socio FROM Socios WHERE nombre = 'Juan Pérez');"
      ],
      "metadata": {
        "id": "cZyf9vCpmE-G",
        "colab": {
          "base_uri": "https://localhost:8080/"
        },
        "outputId": "fdb11cfa-8eb1-422d-e332-2822672f41d0"
      },
      "id": "cZyf9vCpmE-G",
      "execution_count": 82,
      "outputs": [
        {
          "output_type": "stream",
          "name": "stdout",
          "text": [
            " * sqlite:///ejemplos.db\n",
            "(sqlite3.OperationalError) no such table: Barcos\n",
            "[SQL: SELECT nombre,cuota FROM Barcos WHERE id_socio IN(SELECT id_socio FROM Socios WHERE nombre = 'Juan Pérez');]\n",
            "(Background on this error at: https://sqlalche.me/e/20/e3q8)\n"
          ]
        }
      ]
    },
    {
      "cell_type": "markdown",
      "source": [
        "3. ¿Cuántas salidas ha realizado el barco con matrícula 'ABC123'?"
      ],
      "metadata": {
        "id": "pbpnGkeFmPkq"
      },
      "id": "pbpnGkeFmPkq"
    },
    {
      "cell_type": "code",
      "source": [
        "%%sql\n",
        "SELECT COUNT(*) AS total_salidas FROM Salidas WHERE matricula = 'ABC123' ;"
      ],
      "metadata": {
        "id": "nuj5n3DZmS3N",
        "colab": {
          "base_uri": "https://localhost:8080/"
        },
        "outputId": "83527c13-a506-471b-f002-93aa5ea0ba9e"
      },
      "id": "nuj5n3DZmS3N",
      "execution_count": 83,
      "outputs": [
        {
          "output_type": "stream",
          "name": "stdout",
          "text": [
            " * sqlite:///ejemplos.db\n",
            "(sqlite3.OperationalError) no such table: Salidas\n",
            "[SQL: SELECT COUNT(*) AS total_salidas FROM Salidas WHERE matricula = 'ABC123' ;]\n",
            "(Background on this error at: https://sqlalche.me/e/20/e3q8)\n"
          ]
        }
      ]
    },
    {
      "cell_type": "markdown",
      "source": [
        "4. Lista los barcos que tienen una cuota mayor a 500 y sus respectivos socios."
      ],
      "metadata": {
        "id": "GgyZ5pjymbXx"
      },
      "id": "GgyZ5pjymbXx"
    },
    {
      "cell_type": "code",
      "source": [
        "%%sql\n",
        "SELECT nombre,cuota, (SELECT nombre FROM Socios WHERE Socios.id_socio = barcos.id_Socio ) AS nombre_socio FROM barcos WHERE cuota > 500;"
      ],
      "metadata": {
        "id": "szEj8t7WmcpA",
        "colab": {
          "base_uri": "https://localhost:8080/"
        },
        "outputId": "9b401b9a-ceb8-4967-b92c-2f04a434d87b"
      },
      "id": "szEj8t7WmcpA",
      "execution_count": 84,
      "outputs": [
        {
          "output_type": "stream",
          "name": "stdout",
          "text": [
            " * sqlite:///ejemplos.db\n",
            "(sqlite3.OperationalError) no such table: barcos\n",
            "[SQL: SELECT nombre,cuota, (SELECT nombre FROM Socios WHERE Socios.id_socio = barcos.id_Socio ) AS nombre_socio FROM barcos WHERE cuota > 500;]\n",
            "(Background on this error at: https://sqlalche.me/e/20/e3q8)\n"
          ]
        }
      ]
    },
    {
      "cell_type": "markdown",
      "source": [],
      "metadata": {
        "id": "BuvaT17Xlbe_"
      },
      "id": "BuvaT17Xlbe_"
    },
    {
      "cell_type": "markdown",
      "source": [
        "5. ¿Qué barcos han salido con destino a 'Mallorca'?"
      ],
      "metadata": {
        "id": "pTl4-C4ymjpp"
      },
      "id": "pTl4-C4ymjpp"
    },
    {
      "cell_type": "code",
      "source": [
        "%%sql\n",
        "SELECT nombre FROM barcos WHERE matricula IN(SELECT matricula FROM salidas WHERE destino = 'Mallorca' );"
      ],
      "metadata": {
        "id": "tzlnW9Etmo8L",
        "colab": {
          "base_uri": "https://localhost:8080/"
        },
        "outputId": "d9894e30-57f0-48a8-c62c-948bf2ff8295"
      },
      "id": "tzlnW9Etmo8L",
      "execution_count": 85,
      "outputs": [
        {
          "output_type": "stream",
          "name": "stdout",
          "text": [
            " * sqlite:///ejemplos.db\n",
            "(sqlite3.OperationalError) no such table: barcos\n",
            "[SQL: SELECT nombre FROM barcos WHERE matricula IN(SELECT matricula FROM salidas WHERE destino = 'Mallorca' );]\n",
            "(Background on this error at: https://sqlalche.me/e/20/e3q8)\n"
          ]
        }
      ]
    },
    {
      "cell_type": "markdown",
      "source": [
        "6. ¿Qué patrones (nombre y dirección) han llevado un barco cuyo socio vive en 'Barcelona'?"
      ],
      "metadata": {
        "id": "GsLPyY6WmtEn"
      },
      "id": "GsLPyY6WmtEn"
    },
    {
      "cell_type": "code",
      "source": [
        "%%sql\n",
        "SELECT patron_nombre, patron_direccion\n",
        "FROM Salidas\n",
        "WHERE matricula IN (SELECT matricula FROM Barcos WHERE id_socio IN (SELECT id_socio FROM Socios WHERE direccion LIKE '%Barcelona%'));"
      ],
      "metadata": {
        "id": "AZJDPqvbmvOK",
        "colab": {
          "base_uri": "https://localhost:8080/"
        },
        "outputId": "9a073f08-cdc8-4e25-e057-7efe9d65e341"
      },
      "id": "AZJDPqvbmvOK",
      "execution_count": 86,
      "outputs": [
        {
          "output_type": "stream",
          "name": "stdout",
          "text": [
            " * sqlite:///ejemplos.db\n",
            "(sqlite3.OperationalError) no such table: Salidas\n",
            "[SQL: SELECT patron_nombre, patron_direccion\n",
            "FROM Salidas\n",
            "WHERE matricula IN (SELECT matricula FROM Barcos WHERE id_socio IN (SELECT id_socio FROM Socios WHERE direccion LIKE '%Barcelona%'));]\n",
            "(Background on this error at: https://sqlalche.me/e/20/e3q8)\n"
          ]
        }
      ]
    },
    {
      "cell_type": "markdown",
      "source": [
        "### Resolver nuevamentos los incisos, pero ahora usa JOIN\n",
        "1. ¿Qué socios tienen barcos amarrados en un número de amarre mayor que 10?"
      ],
      "metadata": {
        "id": "ox9iE2T6j6Qe"
      },
      "id": "ox9iE2T6j6Qe"
    },
    {
      "cell_type": "code",
      "source": [
        "%%sql\n",
        "SELECT s.nombre\n",
        "FROM Socios s\n",
        "JOIN Barcos b ON s.id_socio = b.id_socio\n",
        "WHERE b.numero_amarre > 10;"
      ],
      "metadata": {
        "id": "GLzT8mCxALp4",
        "colab": {
          "base_uri": "https://localhost:8080/"
        },
        "outputId": "fd103f53-076e-4f2e-cbef-34a7bbc78a4a"
      },
      "id": "GLzT8mCxALp4",
      "execution_count": 87,
      "outputs": [
        {
          "output_type": "stream",
          "name": "stdout",
          "text": [
            " * sqlite:///ejemplos.db\n",
            "(sqlite3.OperationalError) no such table: Socios\n",
            "[SQL: SELECT s.nombre\n",
            "FROM Socios s\n",
            "JOIN Barcos b ON s.id_socio = b.id_socio\n",
            "WHERE b.numero_amarre > 10;]\n",
            "(Background on this error at: https://sqlalche.me/e/20/e3q8)\n"
          ]
        }
      ]
    },
    {
      "cell_type": "markdown",
      "source": [
        "2. ¿Cuáles son los nombres de los barcos y sus cuotas de aquellos barcos cuyo socio se llama 'Juan Pérez'?"
      ],
      "metadata": {
        "id": "mJJkAhkVAw4N"
      },
      "id": "mJJkAhkVAw4N"
    },
    {
      "cell_type": "code",
      "source": [
        "%%sql\n",
        "SELECT b.nombre, b.cuota\n",
        "FROM Barcos b\n",
        "JOIN Socios s ON b.id_socio = s.id_socio\n",
        "WHERE s.nombre = 'Juan Pérez';"
      ],
      "metadata": {
        "id": "PnZz1YO8A-tk",
        "colab": {
          "base_uri": "https://localhost:8080/"
        },
        "outputId": "4f9958fe-36c1-4ca5-e0db-1cb1a1eb0ff3"
      },
      "id": "PnZz1YO8A-tk",
      "execution_count": 88,
      "outputs": [
        {
          "output_type": "stream",
          "name": "stdout",
          "text": [
            " * sqlite:///ejemplos.db\n",
            "(sqlite3.OperationalError) no such table: Barcos\n",
            "[SQL: SELECT b.nombre, b.cuota\n",
            "FROM Barcos b\n",
            "JOIN Socios s ON b.id_socio = s.id_socio\n",
            "WHERE s.nombre = 'Juan Pérez';]\n",
            "(Background on this error at: https://sqlalche.me/e/20/e3q8)\n"
          ]
        }
      ]
    },
    {
      "cell_type": "markdown",
      "source": [
        "3. ¿Cuántas salidas ha realizado el barco con matrícula 'ABC123'?"
      ],
      "metadata": {
        "id": "yk0e4EqFA2Wi"
      },
      "id": "yk0e4EqFA2Wi"
    },
    {
      "cell_type": "code",
      "source": [
        "%%sql\n",
        "SELECT COUNT(s.id_salida) AS total_salidas\n",
        "FROM Salidas s\n",
        "JOIN Barcos b ON s.matricula = b.matricula\n",
        "WHERE b.matricula = 'ABC123';"
      ],
      "metadata": {
        "id": "DnZcgiyAA7IX",
        "colab": {
          "base_uri": "https://localhost:8080/"
        },
        "outputId": "0adfef16-8774-46f5-8711-5a6ac848bd1a"
      },
      "id": "DnZcgiyAA7IX",
      "execution_count": 89,
      "outputs": [
        {
          "output_type": "stream",
          "name": "stdout",
          "text": [
            " * sqlite:///ejemplos.db\n",
            "(sqlite3.OperationalError) no such table: Salidas\n",
            "[SQL: SELECT COUNT(s.id_salida) AS total_salidas\n",
            "FROM Salidas s\n",
            "JOIN Barcos b ON s.matricula = b.matricula\n",
            "WHERE b.matricula = 'ABC123';]\n",
            "(Background on this error at: https://sqlalche.me/e/20/e3q8)\n"
          ]
        }
      ]
    },
    {
      "cell_type": "markdown",
      "source": [
        "4. Lista los barcos que tienen una cuota mayor a 500 y sus respectivos socios."
      ],
      "metadata": {
        "id": "Qeloyr4lBBNt"
      },
      "id": "Qeloyr4lBBNt"
    },
    {
      "cell_type": "code",
      "source": [
        "%%sql\n",
        "SELECT b.nombre AS nombre_barco, s.nombre AS nombre_socio\n",
        "FROM Barcos b\n",
        "JOIN Socios s ON b.id_socio = s.id_socio\n",
        "WHERE b.cuota > 500;"
      ],
      "metadata": {
        "id": "nfsIe3C3BCkR",
        "colab": {
          "base_uri": "https://localhost:8080/"
        },
        "outputId": "328a8f69-be76-4150-a0d9-6cabfd639007"
      },
      "id": "nfsIe3C3BCkR",
      "execution_count": 90,
      "outputs": [
        {
          "output_type": "stream",
          "name": "stdout",
          "text": [
            " * sqlite:///ejemplos.db\n",
            "(sqlite3.OperationalError) no such table: Barcos\n",
            "[SQL: SELECT b.nombre AS nombre_barco, s.nombre AS nombre_socio\n",
            "FROM Barcos b\n",
            "JOIN Socios s ON b.id_socio = s.id_socio\n",
            "WHERE b.cuota > 500;]\n",
            "(Background on this error at: https://sqlalche.me/e/20/e3q8)\n"
          ]
        }
      ]
    },
    {
      "cell_type": "markdown",
      "source": [
        "5. ¿Qué barcos han salido con destino a 'Mallorca'?"
      ],
      "metadata": {
        "id": "GMqo1KlDBFwm"
      },
      "id": "GMqo1KlDBFwm"
    },
    {
      "cell_type": "code",
      "source": [
        "%%sql\n",
        "SELECT b.nombre\n",
        "FROM Barcos b\n",
        "JOIN Salidas s ON b.matricula = s.matricula\n",
        "WHERE s.destino = 'Mallorca';"
      ],
      "metadata": {
        "id": "etjf3fFgBFd-",
        "colab": {
          "base_uri": "https://localhost:8080/"
        },
        "outputId": "a02d4ab6-4293-4391-f6ca-5ff23d0430f0"
      },
      "id": "etjf3fFgBFd-",
      "execution_count": 91,
      "outputs": [
        {
          "output_type": "stream",
          "name": "stdout",
          "text": [
            " * sqlite:///ejemplos.db\n",
            "(sqlite3.OperationalError) no such table: Barcos\n",
            "[SQL: SELECT b.nombre\n",
            "FROM Barcos b\n",
            "JOIN Salidas s ON b.matricula = s.matricula\n",
            "WHERE s.destino = 'Mallorca';]\n",
            "(Background on this error at: https://sqlalche.me/e/20/e3q8)\n"
          ]
        }
      ]
    },
    {
      "cell_type": "markdown",
      "source": [
        "6. ¿Qué patrones (nombre y dirección) han llevado un barco cuyo socio vive en 'Barcelona'?"
      ],
      "metadata": {
        "id": "4rDZTOCSBJQJ"
      },
      "id": "4rDZTOCSBJQJ"
    },
    {
      "cell_type": "code",
      "source": [
        "%%sql\n",
        "SELECT s.patron_nombre, s.patron_direccion\n",
        "FROM Salidas s\n",
        "JOIN Barcos b ON s.matricula = b.matricula\n",
        "JOIN Socios soc ON b.id_socio = soc.id_socio\n",
        "WHERE soc.direccion LIKE '%Barcelona%';"
      ],
      "metadata": {
        "id": "s6MRh7hHBKMb",
        "colab": {
          "base_uri": "https://localhost:8080/"
        },
        "outputId": "194130f0-f806-47df-a357-1c6352e043e6"
      },
      "id": "s6MRh7hHBKMb",
      "execution_count": 92,
      "outputs": [
        {
          "output_type": "stream",
          "name": "stdout",
          "text": [
            " * sqlite:///ejemplos.db\n",
            "(sqlite3.OperationalError) no such table: Salidas\n",
            "[SQL: SELECT s.patron_nombre, s.patron_direccion\n",
            "FROM Salidas s\n",
            "JOIN Barcos b ON s.matricula = b.matricula\n",
            "JOIN Socios soc ON b.id_socio = soc.id_socio\n",
            "WHERE soc.direccion LIKE '%Barcelona%';]\n",
            "(Background on this error at: https://sqlalche.me/e/20/e3q8)\n"
          ]
        }
      ]
    },
    {
      "cell_type": "markdown",
      "id": "d3111595",
      "metadata": {
        "id": "d3111595"
      },
      "source": [
        "\n",
        "## EJERCICIO 2: Base de datos para un gabinete de abogados\n",
        "\n",
        "### Descripción:\n",
        "Se quiere diseñar una base de datos relacional para almacenar información sobre los asuntos que lleva un gabinete de abogados. Cada asunto tiene un número de expediente que lo identifica y corresponde a un solo cliente. Del asunto se debe almacenar:\n",
        "- Período (fecha de inicio y fecha de archivo o finalización)\n",
        "- Estado (en trámite, archivado, etc.)\n",
        "- Datos personales del cliente (DNI, nombre, dirección, etc.)\n",
        "\n",
        "Algunos asuntos son llevados por uno o varios procuradores, de los que nos interesa también almacenar los datos personales.\n",
        "\n",
        "### Esquema propuesto:\n",
        "- Tabla `Clientes`: Almacena la información de los clientes: dni (clave primaria), nombre y dirección.\n",
        "- Tabla `Asuntos`: Almacena la información de los asuntos: numero de expediente (clave primaria), dni del cliente (clave externa), fecha de inicio, fecha de fin y estado (Abierto o Cerrado). Si el asunto está abierto, no tiene fecha de fin.\n",
        "- Tabla `Procuradores`: Almacena la información de los procuradores: id del procurador (clave priaria), nombre y dirección.\n",
        "- Tabla `Asuntos_Procuradores`: Relaciona los asuntos con los procuradores (muchos a muchos).\n",
        "\n",
        "### SQL para crear las tablas:\n"
      ]
    },
    {
      "cell_type": "code",
      "source": [
        "%%sql\n",
        "CREATE TABLE Clientes (\n",
        "    dni VARCHAR(20) PRIMARY KEY,\n",
        "    nombre VARCHAR(100),\n",
        "    direccion VARCHAR(255)\n",
        ");\n",
        "\n",
        "CREATE TABLE Asuntos (\n",
        "    numero_expediente INT PRIMARY KEY,\n",
        "    dni_cliente VARCHAR(20),\n",
        "    fecha_inicio DATE,\n",
        "    fecha_fin DATE,\n",
        "    estado VARCHAR(20),\n",
        "    FOREIGN KEY (dni_cliente) REFERENCES Clientes(dni)\n",
        ");\n",
        "\n",
        "CREATE TABLE Procuradores (\n",
        "    id_procurador INT PRIMARY KEY,\n",
        "    nombre VARCHAR(100),\n",
        "    direccion VARCHAR(255)\n",
        ");\n",
        "\n",
        "CREATE TABLE Asuntos_Procuradores (\n",
        "    numero_expediente INT,\n",
        "    id_procurador INT,\n",
        "    PRIMARY KEY (numero_expediente, id_procurador),\n",
        "    FOREIGN KEY (numero_expediente) REFERENCES Asuntos(numero_expediente),\n",
        "    FOREIGN KEY (id_procurador) REFERENCES Procuradores(id_procurador)\n",
        ");"
      ],
      "metadata": {
        "id": "QtKIwysZeNtz",
        "colab": {
          "base_uri": "https://localhost:8080/"
        },
        "outputId": "bee5eff4-549a-4f69-b16d-79c2d53e10ef"
      },
      "id": "QtKIwysZeNtz",
      "execution_count": 93,
      "outputs": [
        {
          "output_type": "stream",
          "name": "stdout",
          "text": [
            " * sqlite:///ejemplos.db\n",
            "(sqlite3.OperationalError) table Clientes already exists\n",
            "[SQL: CREATE TABLE Clientes (\n",
            "    dni VARCHAR(20) PRIMARY KEY,\n",
            "    nombre VARCHAR(100),\n",
            "    direccion VARCHAR(255)\n",
            ");]\n",
            "(Background on this error at: https://sqlalche.me/e/20/e3q8)\n"
          ]
        }
      ]
    },
    {
      "cell_type": "markdown",
      "source": [],
      "metadata": {
        "id": "Yhom8Hjlesap"
      },
      "id": "Yhom8Hjlesap"
    },
    {
      "cell_type": "code",
      "source": [
        "%%sql\n",
        "-- Poblar la tabla Clientes\n",
        "INSERT INTO Clientes (dni, nombre, direccion)\n",
        "VALUES\n",
        "('123456789', 'Juan Pérez', 'Calle Pueyrredón 3498, Buenos Aires'),\n",
        "('987654321', 'Ana García', 'Calle 5 323, La Plata'),\n",
        "('456123789', 'Luis Fernández', 'Avenida de Gral. Paz 1056, Bahía Blanca');\n",
        "\n",
        "-- Poblar la tabla Asuntos\n",
        "INSERT INTO Asuntos (numero_expediente, dni_cliente, fecha_inicio, fecha_fin, estado)\n",
        "VALUES\n",
        "(1, '123456789', '2023-01-15', '2023-07-20', 'Cerrado'),\n",
        "(2, '987654321', '2023-05-10', NULL, 'Abierto'),\n",
        "(3, '456123789', '2023-06-01', '2023-09-10', 'Cerrado');\n",
        "\n",
        "-- Poblar la tabla Procuradores\n",
        "INSERT INTO Procuradores (id_procurador, nombre, direccion)\n",
        "VALUES\n",
        "(1, 'Laura Sánchez', 'Calle Soler 3765, Buenos Aires'),\n",
        "(2, 'Carlos López', 'Calle Estrellas 8, Mar del Plata'),\n",
        "(3, 'Marta Díaz', 'Calle Estación 12, Olavarria');\n",
        "\n",
        "-- Poblar la tabla Asuntos_Procuradores\n",
        "INSERT INTO Asuntos_Procuradores (numero_expediente, id_procurador)\n",
        "VALUES\n",
        "(1, 1),\n",
        "(2, 2),\n",
        "(3, 3),\n",
        "(2, 1);  -- Un asunto puede tener varios procuradores"
      ],
      "metadata": {
        "id": "5o4a19qHetVz",
        "colab": {
          "base_uri": "https://localhost:8080/"
        },
        "outputId": "b5809b9e-aac1-49b5-916a-f529e8d19513"
      },
      "id": "5o4a19qHetVz",
      "execution_count": 94,
      "outputs": [
        {
          "output_type": "stream",
          "name": "stdout",
          "text": [
            " * sqlite:///ejemplos.db\n",
            "(sqlite3.IntegrityError) UNIQUE constraint failed: Clientes.dni\n",
            "[SQL: -- Poblar la tabla Clientes\n",
            "INSERT INTO Clientes (dni, nombre, direccion)\n",
            "VALUES\n",
            "('123456789', 'Juan Pérez', 'Calle Pueyrredón 3498, Buenos Aires'),\n",
            "('987654321', 'Ana García', 'Calle 5 323, La Plata'),\n",
            "('456123789', 'Luis Fernández', 'Avenida de Gral. Paz 1056, Bahía Blanca');]\n",
            "(Background on this error at: https://sqlalche.me/e/20/gkpj)\n"
          ]
        }
      ]
    },
    {
      "cell_type": "markdown",
      "source": [
        "### Resolver estas consignas usando _únicamente_ JOIN en las consultas:\n",
        "1. ¿Cuál es el nombre y la dirección de los procuradores que han trabajado en un asunto abierto?"
      ],
      "metadata": {
        "id": "OvOaPQYTgkBJ"
      },
      "id": "OvOaPQYTgkBJ"
    },
    {
      "cell_type": "code",
      "source": [
        "%%sql\n",
        "SELECT p.nombre, p.direccion\n",
        "FROM Procuradores p\n",
        "JOIN Asuntos_Procuradores ap ON p.id_procurador = ap.id_procurador\n",
        "JOIN Asuntos a ON ap.numero_expediente = a.numero_expediente\n",
        "WHERE a.estado = 'Abierto';"
      ],
      "metadata": {
        "id": "ZO891c6ZgrZm",
        "colab": {
          "base_uri": "https://localhost:8080/",
          "height": 118
        },
        "outputId": "91312247-efc1-4569-920b-3a3f11c2aa53"
      },
      "id": "ZO891c6ZgrZm",
      "execution_count": 95,
      "outputs": [
        {
          "output_type": "stream",
          "name": "stdout",
          "text": [
            " * sqlite:///ejemplos.db\n",
            "Done.\n"
          ]
        },
        {
          "output_type": "execute_result",
          "data": {
            "text/plain": [
              "[('Carlos López', 'Calle Estrellas 8, Mar del Plata'),\n",
              " ('Laura Sánchez', 'Calle Soler 3765, Buenos Aires')]"
            ],
            "text/html": [
              "<table>\n",
              "    <thead>\n",
              "        <tr>\n",
              "            <th>nombre</th>\n",
              "            <th>direccion</th>\n",
              "        </tr>\n",
              "    </thead>\n",
              "    <tbody>\n",
              "        <tr>\n",
              "            <td>Carlos López</td>\n",
              "            <td>Calle Estrellas 8, Mar del Plata</td>\n",
              "        </tr>\n",
              "        <tr>\n",
              "            <td>Laura Sánchez</td>\n",
              "            <td>Calle Soler 3765, Buenos Aires</td>\n",
              "        </tr>\n",
              "    </tbody>\n",
              "</table>"
            ]
          },
          "metadata": {},
          "execution_count": 95
        }
      ]
    },
    {
      "cell_type": "markdown",
      "source": [
        "2. ¿Qué clientes han tenido asuntos en los que ha participado el procurador Carlos López?"
      ],
      "metadata": {
        "id": "Y5qojbXWg9mh"
      },
      "id": "Y5qojbXWg9mh"
    },
    {
      "cell_type": "code",
      "source": [
        "%%sql\n",
        "SELECT c.nombre, c.direccion\n",
        "FROM Clientes c\n",
        "JOIN Asuntos a ON c.dni = a.dni_cliente\n",
        "JOIN Asuntos_Procuradores ap ON a.numero_expediente = ap.numero_expediente\n",
        "JOIN Procuradores p ON ap.id_procurador = p.id_procurador\n",
        "WHERE p.nombre = 'Carlos López';"
      ],
      "metadata": {
        "id": "JlQjPghDhBrj",
        "colab": {
          "base_uri": "https://localhost:8080/",
          "height": 96
        },
        "outputId": "0f2f1f5a-2a3b-47bc-acc6-df1994088d92"
      },
      "id": "JlQjPghDhBrj",
      "execution_count": 96,
      "outputs": [
        {
          "output_type": "stream",
          "name": "stdout",
          "text": [
            " * sqlite:///ejemplos.db\n",
            "Done.\n"
          ]
        },
        {
          "output_type": "execute_result",
          "data": {
            "text/plain": [
              "[('Ana García', 'Calle 5 323, La Plata')]"
            ],
            "text/html": [
              "<table>\n",
              "    <thead>\n",
              "        <tr>\n",
              "            <th>nombre</th>\n",
              "            <th>direccion</th>\n",
              "        </tr>\n",
              "    </thead>\n",
              "    <tbody>\n",
              "        <tr>\n",
              "            <td>Ana García</td>\n",
              "            <td>Calle 5 323, La Plata</td>\n",
              "        </tr>\n",
              "    </tbody>\n",
              "</table>"
            ]
          },
          "metadata": {},
          "execution_count": 96
        }
      ]
    },
    {
      "cell_type": "markdown",
      "source": [
        "3. ¿Cuántos asuntos ha gestionado cada procurador?"
      ],
      "metadata": {
        "id": "1NfxB7M6hKsX"
      },
      "id": "1NfxB7M6hKsX"
    },
    {
      "cell_type": "code",
      "source": [
        "%%sql\n",
        "SELECT p.nombre, COUNT(ap.numero_expediente) AS total_asuntos\n",
        "FROM Procuradores p\n",
        "JOIN Asuntos_Procuradores ap ON p.id_procurador = ap.id_procurador\n",
        "GROUP BY p.nombre;"
      ],
      "metadata": {
        "id": "kZHFCFX0hS5-",
        "colab": {
          "base_uri": "https://localhost:8080/",
          "height": 139
        },
        "outputId": "4a6614e8-9958-42f8-c71f-c548d42ac6ae"
      },
      "id": "kZHFCFX0hS5-",
      "execution_count": 97,
      "outputs": [
        {
          "output_type": "stream",
          "name": "stdout",
          "text": [
            " * sqlite:///ejemplos.db\n",
            "Done.\n"
          ]
        },
        {
          "output_type": "execute_result",
          "data": {
            "text/plain": [
              "[('Carlos López', 1), ('Laura Sánchez', 2), ('Marta Díaz', 1)]"
            ],
            "text/html": [
              "<table>\n",
              "    <thead>\n",
              "        <tr>\n",
              "            <th>nombre</th>\n",
              "            <th>total_asuntos</th>\n",
              "        </tr>\n",
              "    </thead>\n",
              "    <tbody>\n",
              "        <tr>\n",
              "            <td>Carlos López</td>\n",
              "            <td>1</td>\n",
              "        </tr>\n",
              "        <tr>\n",
              "            <td>Laura Sánchez</td>\n",
              "            <td>2</td>\n",
              "        </tr>\n",
              "        <tr>\n",
              "            <td>Marta Díaz</td>\n",
              "            <td>1</td>\n",
              "        </tr>\n",
              "    </tbody>\n",
              "</table>"
            ]
          },
          "metadata": {},
          "execution_count": 97
        }
      ]
    },
    {
      "cell_type": "markdown",
      "source": [
        "4. Lista los números de expediente y fechas de inicio de los asuntos de los clientes que viven en Buenos Aires."
      ],
      "metadata": {
        "id": "zHUFuerKhjc2"
      },
      "id": "zHUFuerKhjc2"
    },
    {
      "cell_type": "code",
      "source": [
        "%%sql\n",
        "SELECT a.numero_expediente, a.fecha_inicio\n",
        "FROM Asuntos a\n",
        "JOIN Clientes c ON a.dni_cliente = c.dni\n",
        "WHERE c.direccion LIKE '%Buenos Aires%';"
      ],
      "metadata": {
        "id": "9RDQt_5lipod",
        "colab": {
          "base_uri": "https://localhost:8080/",
          "height": 96
        },
        "outputId": "5fb065c9-2e87-4db3-8631-050159d18dc7"
      },
      "id": "9RDQt_5lipod",
      "execution_count": 98,
      "outputs": [
        {
          "output_type": "stream",
          "name": "stdout",
          "text": [
            " * sqlite:///ejemplos.db\n",
            "Done.\n"
          ]
        },
        {
          "output_type": "execute_result",
          "data": {
            "text/plain": [
              "[(1, '2023-01-15')]"
            ],
            "text/html": [
              "<table>\n",
              "    <thead>\n",
              "        <tr>\n",
              "            <th>numero_expediente</th>\n",
              "            <th>fecha_inicio</th>\n",
              "        </tr>\n",
              "    </thead>\n",
              "    <tbody>\n",
              "        <tr>\n",
              "            <td>1</td>\n",
              "            <td>2023-01-15</td>\n",
              "        </tr>\n",
              "    </tbody>\n",
              "</table>"
            ]
          },
          "metadata": {},
          "execution_count": 98
        }
      ]
    },
    {
      "cell_type": "markdown",
      "source": [
        "# Entrega\n",
        "La entrega consiste en completar esta hoja y subirla a su repositorio GIT\n",
        "Se deben entregar también los diagramas de esquema de tablas como imagenes aparte.\n",
        "Fecha límite: 30 de septiembre a las 23:59 hs"
      ],
      "metadata": {
        "id": "aIF74m2eV9J9"
      },
      "id": "aIF74m2eV9J9"
    }
  ],
  "metadata": {
    "colab": {
      "provenance": []
    },
    "language_info": {
      "name": "python"
    },
    "kernelspec": {
      "name": "python3",
      "display_name": "Python 3"
    }
  },
  "nbformat": 4,
  "nbformat_minor": 5
}