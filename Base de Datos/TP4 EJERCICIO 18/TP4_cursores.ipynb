{
  "cells": [
    {
      "cell_type": "markdown",
      "id": "da950635",
      "metadata": {
        "id": "da950635"
      },
      "source": [
        "# Ejercicios de Procedimientos y Cursores\n",
        "**Código de inicialización**\n",
        "\n",
        "Este código permite inicializar las bibliotecas para usar SQLite en la máquina virtual de Google Colab. El código además elimina cualquier dato almacenado anteriormente en el archvio `ejemplos.db`. Es recomendable volver a correr el código cada vez que se comience con la resolución de un nuevo ejercicio."
      ]
    },
    {
      "cell_type": "code",
      "execution_count": null,
      "id": "6c234a1c",
      "metadata": {
        "id": "6c234a1c"
      },
      "outputs": [],
      "source": [
        "!pip install pymysql\n",
        "%load_ext sql\n",
        "!rm -rf ejemplos.db\n",
        "%sql sqlite:///ejemplos.db"
      ]
    },
    {
      "cell_type": "markdown",
      "id": "a6be6adb",
      "metadata": {
        "id": "a6be6adb"
      },
      "source": [
        "## Ejercicio 1: Actualizar Estados de Órdenes\n",
        "\n",
        "**Enunciado:**\n",
        "\n",
        "Tienes una tabla llamada `Ordenes` con la siguiente estructura:\n",
        "\n",
        "```sql\n",
        "CREATE TABLE Ordenes (\n",
        "    Id INT PRIMARY KEY IDENTITY(1,1),\n",
        "    ClienteId INT NOT NULL,\n",
        "    FechaOrden DATE NOT NULL,\n",
        "    Estado VARCHAR(20) NOT NULL, -- Ejemplos: 'Pendiente', 'Procesando', 'Enviado', 'Entregado'\n",
        "    Total DECIMAL(10,2) NOT NULL\n",
        ");\n",
        "```\n",
        "\n",
        "**Objetivo:**\n",
        "\n",
        "Crear un procedimiento almacenado llamado `ActualizarEstadoOrdenes` que utilice un cursor para actualizar el estado de las órdenes basándose en la fecha de la orden y el estado actual.\n",
        "\n",
        "**Requisitos:**\n",
        "\n",
        "1. Declarar un cursor que seleccione `Id`, `FechaOrden` y `Estado` de todas las órdenes que aún no están en estado 'Entregado'.\n",
        "2. Iterar sobre cada orden y aplicar las siguientes reglas de actualización:\n",
        "   - Si la orden tiene más de 30 días y está en estado 'Pendiente', actualizar el estado a 'Cancelada'.\n",
        "   - Si la orden tiene entre 15 y 30 días y está en estado 'Pendiente', actualizar el estado a 'Procesando'.\n",
        "   - Si la orden tiene entre 1 y 14 días y está en estado 'Procesando', actualizar el estado a 'Enviado'.\n",
        "3. Asegurar que el procedimiento maneje correctamente la apertura y cierre del cursor.\n",
        "\n"
      ]
    },
    {
      "cell_type": "code",
      "execution_count": null,
      "id": "f1280615",
      "metadata": {
        "id": "f1280615"
      },
      "outputs": [],
      "source": [
        "# Escriba aquí la solución del ejercicio\n",
        "%%sql"
      ]
    },
    {
      "cell_type": "markdown",
      "id": "7488e0a1",
      "metadata": {
        "id": "7488e0a1"
      },
      "source": [
        "## Ejercicio 2: Generar Historial de Cambios\n",
        "\n",
        "**Enunciado:**\n",
        "\n",
        "Tienes una tabla llamada `Inventario` y otra tabla llamada `HistorialInventario` para registrar cambios en el inventario:\n",
        "\n",
        "```sql\n",
        "CREATE TABLE Inventario (\n",
        "    ProductoId INT PRIMARY KEY IDENTITY(1,1),\n",
        "    NombreProducto VARCHAR(100) NOT NULL,\n",
        "    Cantidad INT NOT NULL,\n",
        "    Precio DECIMAL(10,2) NOT NULL\n",
        ");\n",
        "\n",
        "CREATE TABLE HistorialInventario (\n",
        "    HistorialId INT PRIMARY KEY IDENTITY(1,1),\n",
        "    ProductoId INT FOREIGN KEY REFERENCES Inventario(ProductoId),\n",
        "    FechaCambio DATETIME NOT NULL,\n",
        "    Cambio INT NOT NULL, -- Puede ser positivo o negativo\n",
        "    Motivo VARCHAR(255) NOT NULL\n",
        ");\n",
        "```\n",
        "\n",
        "**Objetivo:**\n",
        "\n",
        "Crear un procedimiento almacenado llamado `RegistrarCambiosInventario` que utilice un cursor para procesar una lista de cambios en el inventario y registrar cada cambio en la tabla `HistorialInventario`.\n",
        "\n",
        "**Requisitos:**\n",
        "\n",
        "1. El procedimiento debe recibir como parámetro una tabla temporal o una variable de tabla que contenga los cambios a procesar, con las columnas: `ProductoId`, `Cambio`, `Motivo`.\n",
        "2. Declarar un cursor que seleccione cada registro de la lista de cambios.\n",
        "3. Para cada cambio:\n",
        "   - Actualizar la cantidad del producto en la tabla `Inventario`.\n",
        "   - Insertar un registro en la tabla `HistorialInventario` con la fecha actual, el cambio aplicado y el motivo.\n",
        "4. Implementar manejo de transacciones para asegurar que todos los cambios se apliquen correctamente o se reviertan en caso de error.\n",
        "5. Manejar adecuadamente la apertura y cierre del cursor, así como el manejo de posibles excepciones.\n",
        "\n"
      ]
    },
    {
      "cell_type": "code",
      "execution_count": null,
      "id": "34ea27fa",
      "metadata": {
        "id": "34ea27fa"
      },
      "outputs": [],
      "source": [
        "# Escriba aquí la solución del ejercicio\n",
        "%%sql"
      ]
    },
    {
      "cell_type": "markdown",
      "id": "5f73536e",
      "metadata": {
        "id": "5f73536e"
      },
      "source": [
        "## Ejercicio 3: Validación de Datos\n",
        "\n",
        "**Enunciado:**\n",
        "\n",
        "Tienes una tabla llamada `Usuarios` con la siguiente estructura:\n",
        "\n",
        "```sql\n",
        "CREATE TABLE Usuarios (\n",
        "    Id INT PRIMARY KEY IDENTITY(1,1),\n",
        "    NombreUsuario VARCHAR(50) NOT NULL,\n",
        "    Email VARCHAR(100) NOT NULL,\n",
        "    FechaRegistro DATE NOT NULL,\n",
        "    Estado VARCHAR(20) NOT NULL -- Ejemplos: 'Activo', 'Inactivo', 'Pendiente'\n",
        ");\n",
        "```\n",
        "\n",
        "**Objetivo:**\n",
        "\n",
        "Crear un procedimiento almacenado llamado `ValidarUsuarios` que utilice un cursor para revisar cada usuario y actualizar su estado basado en criterios específicos.\n",
        "\n",
        "**Requisitos:**\n",
        "\n",
        "1. Declarar un cursor que seleccione `Id`, `FechaRegistro` y `Estado` de todos los usuarios.\n",
        "2. Iterar sobre cada usuario y aplicar las siguientes reglas:\n",
        "   - Si el usuario ha estado en estado 'Pendiente' por más de 7 días, actualizar su estado a 'Inactivo'.\n",
        "   - Si el usuario está en estado 'Activo' y su fecha de registro fue hace más de un año, enviar una notificación (simulado con un comentario en el código).\n",
        "3. Asegurar el manejo correcto del cursor y posibles errores durante el proceso.\n",
        "\n"
      ]
    },
    {
      "cell_type": "code",
      "execution_count": null,
      "id": "8e303611",
      "metadata": {
        "id": "8e303611"
      },
      "outputs": [],
      "source": [
        "# Escriba aquí la solución del ejercicio\n",
        "%%sql"
      ]
    },
    {
      "cell_type": "markdown",
      "id": "4d2fd361",
      "metadata": {
        "id": "4d2fd361"
      },
      "source": [
        "## Ejercicio 4: Asignación de Tareas\n",
        "\n",
        "**Enunciado:**\n",
        "\n",
        "Tienes dos tablas: `Empleados` y `TareasAsignadas`:\n",
        "\n",
        "```sql\n",
        "CREATE TABLE Empleados (\n",
        "    Id INT PRIMARY KEY IDENTITY(1,1),\n",
        "    Nombre VARCHAR(100) NOT NULL,\n",
        "    Departamento VARCHAR(50) NOT NULL,\n",
        "    TareasPendientes INT DEFAULT 0\n",
        ");\n",
        "\n",
        "CREATE TABLE Tareas (\n",
        "    TareaId INT PRIMARY KEY IDENTITY(1,1),\n",
        "    Descripcion VARCHAR(255) NOT NULL,\n",
        "    Prioridad INT NOT NULL -- 1: Alta, 2: Media, 3: Baja\n",
        ");\n",
        "```\n",
        "\n",
        "**Objetivo:**\n",
        "\n",
        "Crear un procedimiento almacenado llamado `AsignarTareas` que utilice un cursor para asignar tareas a empleados basándose en la cantidad de tareas pendientes y la prioridad de las tareas.\n",
        "\n",
        "**Requisitos:**\n",
        "\n",
        "1. Declarar un cursor que seleccione todas las tareas ordenadas por prioridad (de alta a baja).\n",
        "2. Para cada tarea, buscar al empleado con la menor cantidad de tareas pendientes en el mismo departamento (puedes asumir un departamento específico o agregar uno en las tablas).\n",
        "3. Asignar la tarea al empleado seleccionado:\n",
        "   - Insertar un registro en la tabla `TareasAsignadas` (debes crear esta tabla con las columnas `AsignacionId`, `EmpleadoId`, `TareaId`, `FechaAsignacion`).\n",
        "   - Incrementar el contador de `TareasPendientes` del empleado en la tabla `Empleados`.\n",
        "4. Implementar manejo de transacciones para asegurar la consistencia de los datos.\n",
        "5. Manejar adecuadamente la apertura y cierre del cursor, así como posibles errores.\n"
      ]
    },
    {
      "cell_type": "code",
      "execution_count": null,
      "id": "d7cf6023",
      "metadata": {
        "id": "d7cf6023"
      },
      "outputs": [],
      "source": [
        "# Escriba aquí la solución del ejercicio\n",
        "%%sql"
      ]
    },
    {
      "cell_type": "markdown",
      "id": "9ec1c745",
      "metadata": {
        "id": "9ec1c745"
      },
      "source": [
        "## Ejercicio 5: Cálculo de Bonificaciones\n",
        "\n",
        "**Enunciado:**\n",
        "\n",
        "Tienes una tabla llamada `Ventas` y otra tabla llamada `Empleados`:\n",
        "\n",
        "```sql\n",
        "CREATE TABLE Empleados (\n",
        "    Id INT PRIMARY KEY IDENTITY(1,1),\n",
        "    Nombre VARCHAR(100) NOT NULL,\n",
        "    Departamento VARCHAR(50) NOT NULL,\n",
        "    Salario DECIMAL(10,2) NOT NULL\n",
        ");\n",
        "\n",
        "CREATE TABLE Ventas (\n",
        "    VentaId INT PRIMARY KEY IDENTITY(1,1),\n",
        "    EmpleadoId INT FOREIGN KEY REFERENCES Empleados(Id),\n",
        "    Monto DECIMAL(10,2) NOT NULL,\n",
        "    FechaVenta DATE NOT NULL\n",
        ");\n",
        "```\n",
        "\n",
        "**Objetivo:**\n",
        "\n",
        "Crear un procedimiento almacenado llamado `CalcularBonificaciones` que utilice un cursor para calcular y asignar bonificaciones a los empleados basadas en sus ventas mensuales.\n",
        "\n",
        "**Requisitos:**\n",
        "\n",
        "1. Declarar un cursor que seleccione cada `EmpleadoId` y la suma total de sus ventas en el último mes.\n",
        "2. Para cada empleado:\n",
        "   - Si las ventas totales exceden un umbral definido (por ejemplo, $10,000), calcular una bonificación del 10% sobre las ventas.\n",
        "   - Actualizar el salario del empleado sumando la bonificación calculada.\n",
        "   - Insertar un registro en una tabla `Bonificaciones` (debes crear esta tabla con las columnas `BonificacionId`, `EmpleadoId`, `MontoBonificacion`, `FechaBonificacion`).\n",
        "3. Implementar manejo de transacciones para asegurar que las actualizaciones y las inserciones se realicen correctamente.\n",
        "4. Manejar adecuadamente la apertura y cierre del cursor, así como posibles errores durante el proceso.\n",
        "\n"
      ]
    },
    {
      "cell_type": "code",
      "execution_count": null,
      "id": "2b77c34b",
      "metadata": {
        "id": "2b77c34b"
      },
      "outputs": [],
      "source": [
        "# Escriba aquí la solución del ejercicio\n",
        "%%sql"
      ]
    },
    {
      "cell_type": "markdown",
      "id": "b6feaa90",
      "metadata": {
        "id": "b6feaa90"
      },
      "source": [
        "## Ejercicio 6: Migración de Datos\n",
        "\n",
        "**Enunciado:**\n",
        "\n",
        "Tienes una tabla antigua `ClientesAntiguos` y una nueva tabla `ClientesActuales` con estructuras ligeramente diferentes:\n",
        "\n",
        "```sql\n",
        "CREATE TABLE ClientesAntiguos (\n",
        "    ClienteId INT PRIMARY KEY IDENTITY(1,1),\n",
        "    NombreCompleto VARCHAR(150) NOT NULL,\n",
        "    Telefono VARCHAR(20),\n",
        "    Direccion VARCHAR(255),\n",
        "    FechaRegistro DATETIME NOT NULL\n",
        ");\n",
        "\n",
        "CREATE TABLE ClientesActuales (\n",
        "    ClienteId INT PRIMARY KEY IDENTITY(1,1),\n",
        "    Nombre VARCHAR(100) NOT NULL,\n",
        "    Apellido VARCHAR(50) NOT NULL,\n",
        "    Telefono VARCHAR(20),\n",
        "    Direccion VARCHAR(255),\n",
        "    FechaRegistro DATE NOT NULL\n",
        ");\n",
        "```\n",
        "\n",
        "**Objetivo:**\n",
        "\n",
        "Crear un procedimiento almacenado llamado `MigrarClientes` que utilice un cursor para migrar datos de la tabla `ClientesAntiguos` a `ClientesActuales`, dividiendo el campo `NombreCompleto` en `Nombre` y `Apellido`.\n",
        "\n",
        "**Requisitos:**\n",
        "\n",
        "1. Declarar un cursor que seleccione todos los registros de la tabla `ClientesAntiguos`.\n",
        "2. Para cada registro:\n",
        "   - Dividir `NombreCompleto` en `Nombre` y `Apellido` (puedes asumir que el apellido es la última palabra del nombre completo).\n",
        "   - Insertar un nuevo registro en la tabla `ClientesActuales` con los datos transformados.\n",
        "3. Implementar manejo de transacciones para asegurar que todos los registros se migren correctamente o se reviertan en caso de error.\n",
        "4. Manejar adecuadamente la apertura y cierre del cursor, así como posibles excepciones durante la migración."
      ]
    },
    {
      "cell_type": "code",
      "execution_count": null,
      "id": "9b74e79a",
      "metadata": {
        "id": "9b74e79a"
      },
      "outputs": [],
      "source": [
        "# Escriba aquí la solución del ejercicio\n",
        "%%sql"
      ]
    },
    {
      "cell_type": "markdown",
      "id": "8b25e8ec",
      "metadata": {
        "id": "8b25e8ec"
      },
      "source": [
        "## Ejercicio 7: Consolidación de Datos\n",
        "\n",
        "**Enunciado:**\n",
        "\n",
        "Tienes una tabla `Pedidos` con la siguiente estructura:\n",
        "\n",
        "```sql\n",
        "CREATE TABLE Pedidos (\n",
        "    PedidoId INT PRIMARY KEY IDENTITY(1,1),\n",
        "    ClienteId INT NOT NULL,\n",
        "    ProductoId INT NOT NULL,\n",
        "    Cantidad INT NOT NULL,\n",
        "    PrecioUnitario DECIMAL(10,2) NOT NULL,\n",
        "    FechaPedido DATE NOT NULL\n",
        ");\n",
        "```\n",
        "\n",
        "Y otra tabla `ConsolidadoVentas` para almacenar las ventas consolidadas por cliente y producto:\n",
        "\n",
        "```sql\n",
        "CREATE TABLE ConsolidadoVentas (\n",
        "    ConsolidadoId INT PRIMARY KEY IDENTITY(1,1),\n",
        "    ClienteId INT NOT NULL,\n",
        "    ProductoId INT NOT NULL,\n",
        "    CantidadTotal INT NOT NULL,\n",
        "    IngresoTotal DECIMAL(15,2) NOT NULL\n",
        ");\n",
        "```\n",
        "\n",
        "**Objetivo:**\n",
        "\n",
        "Crear un procedimiento almacenado llamado `ConsolidarVentas` que utilice un cursor para procesar todos los pedidos y actualizar la tabla `ConsolidadoVentas` con la suma total de cantidad e ingresos por cliente y producto.\n",
        "\n",
        "**Requisitos:**\n",
        "\n",
        "1. Declarar un cursor que seleccione `ClienteId`, `ProductoId`, `Cantidad` y `PrecioUnitario` de la tabla `Pedidos`.\n",
        "2. Para cada pedido:\n",
        "   - Verificar si ya existe un registro en `ConsolidadoVentas` para el par `ClienteId` y `ProductoId`.\n",
        "   - Si existe, actualizar `CantidadTotal` y `IngresoTotal` sumando los valores del pedido.\n",
        "   - Si no existe, insertar un nuevo registro con los valores del pedido.\n",
        "3. Implementar manejo de transacciones para asegurar la consistencia de los datos durante la consolidación.\n",
        "4. Manejar adecuadamente la apertura y cierre del cursor, así como posibles errores durante el proceso."
      ]
    },
    {
      "cell_type": "code",
      "execution_count": null,
      "id": "160dbcc0",
      "metadata": {
        "id": "160dbcc0"
      },
      "outputs": [],
      "source": [
        "# Escriba aquí la solución del ejercicio\n",
        "%%sql"
      ]
    },
    {
      "cell_type": "markdown",
      "id": "763ff768",
      "metadata": {
        "id": "763ff768"
      },
      "source": [
        "## Ejercicio 8: Sincronización de Bases de Datos\n",
        "\n",
        "**Enunciado:**\n",
        "\n",
        "Tienes dos bases de datos diferentes: una base de datos `Local` y una base de datos `Remota`. Ambas tienen una tabla `Inventario`, pero la base de datos remota necesita estar sincronizada con la local.\n",
        "\n",
        "```sql\n",
        "-- En Base de Datos Local\n",
        "CREATE TABLE InventarioLocal (\n",
        "    ProductoId INT PRIMARY KEY IDENTITY(1,1),\n",
        "    NombreProducto VARCHAR(100) NOT NULL,\n",
        "    Cantidad INT NOT NULL,\n",
        "    Precio DECIMAL(10,2) NOT NULL,\n",
        "    UltimaActualizacion DATETIME NOT NULL\n",
        ");\n",
        "\n",
        "-- En Base de Datos Remota\n",
        "CREATE TABLE InventarioRemoto (\n",
        "    ProductoId INT PRIMARY KEY IDENTITY(1,1),\n",
        "    NombreProducto VARCHAR(100) NOT NULL,\n",
        "    Cantidad INT NOT NULL,\n",
        "    Precio DECIMAL(10,2) NOT NULL,\n",
        "    UltimaActualizacion DATETIME NOT NULL\n",
        ");\n",
        "```\n",
        "\n",
        "**Objetivo:**\n",
        "\n",
        "Crear un procedimiento almacenado llamado `SincronizarInventario` en la base de datos local que utilice un cursor para comparar y sincronizar los registros de `InventarioLocal` con `InventarioRemoto`.\n",
        "\n",
        "**Requisitos:**\n",
        "\n",
        "1. Declarar un cursor que seleccione todos los registros de `InventarioLocal`.\n",
        "2. Para cada registro:\n",
        "   - Verificar si existe un registro correspondiente en `InventarioRemoto` basado en `ProductoId`.\n",
        "   - Si existe y la `UltimaActualizacion` en local es más reciente, actualizar el registro en `InventarioRemoto`.\n",
        "   - Si no existe, insertar el registro en `InventarioRemoto`.\n",
        "3. Implementar manejo de transacciones para asegurar que todas las actualizaciones se realicen correctamente.\n",
        "4. Manejar adecuadamente la apertura y cierre del cursor, así como posibles errores durante la sincronización.\n",
        "5. (Opcional) Registrar las operaciones realizadas en una tabla de logs para auditoría."
      ]
    },
    {
      "cell_type": "code",
      "execution_count": null,
      "id": "037c2b7a",
      "metadata": {
        "id": "037c2b7a"
      },
      "outputs": [],
      "source": [
        "# Escriba aquí la solución del ejercicio\n",
        "%%sql"
      ]
    },
    {
      "cell_type": "markdown",
      "id": "904658c2",
      "metadata": {
        "id": "904658c2"
      },
      "source": [
        "## Ejercicio 9: Generación de Facturas\n",
        "\n",
        "**Enunciado:**\n",
        "\n",
        "Tienes dos tablas: `Pedidos` y `Facturas`:\n",
        "\n",
        "```sql\n",
        "CREATE TABLE Pedidos (\n",
        "    PedidoId INT PRIMARY KEY IDENTITY(1,1),\n",
        "    ClienteId INT NOT NULL,\n",
        "    FechaPedido DATE NOT NULL,\n",
        "    TotalPedido DECIMAL(10,2) NOT NULL,\n",
        "    Facturado BIT DEFAULT 0\n",
        ");\n",
        "\n",
        "CREATE TABLE Facturas (\n",
        "    FacturaId INT PRIMARY KEY IDENTITY(1,1),\n",
        "    PedidoId INT FOREIGN KEY REFERENCES Pedidos(PedidoId),\n",
        "    FechaFactura DATE NOT NULL,\n",
        "    MontoFacturado DECIMAL(10,2) NOT NULL\n",
        ");\n",
        "```\n",
        "\n",
        "**Objetivo:**\n",
        "\n",
        "Crear un procedimiento almacenado llamado `GenerarFacturas` que utilice un cursor para procesar todos los pedidos no facturados y generar las facturas correspondientes.\n",
        "\n",
        "**Requisitos:**\n",
        "\n",
        "1. Declarar un cursor que seleccione `PedidoId`, `ClienteId`, `TotalPedido` de todos los pedidos donde `Facturado = 0`.\n",
        "2. Para cada pedido:\n",
        "   - Insertar un nuevo registro en la tabla `Facturas` con la `FechaFactura` como la fecha actual y el `MontoFacturado` igual al `TotalPedido`.\n",
        "   - Actualizar el campo `Facturado` del pedido a `1` para indicar que ya ha sido facturado.\n",
        "3. Implementar manejo de transacciones para asegurar que la inserción en `Facturas` y la actualización en `Pedidos` se realicen de forma atómica.\n",
        "4. Manejar adecuadamente la apertura y cierre del cursor, así como posibles errores durante el proceso de facturación."
      ]
    },
    {
      "cell_type": "code",
      "execution_count": null,
      "id": "3a823ae9",
      "metadata": {
        "id": "3a823ae9"
      },
      "outputs": [],
      "source": [
        "# Escriba aquí la solución del ejercicio\n",
        "%%sql"
      ]
    },
    {
      "cell_type": "markdown",
      "id": "30e13b67",
      "metadata": {
        "id": "30e13b67"
      },
      "source": [
        "## Ejercicio 10: Actualización de Precios Basada en Competencia\n",
        "\n",
        "**Enunciado:**\n",
        "\n",
        "Tienes una tabla `Productos` y una tabla `CompetenciaPrecios` que contiene los precios de productos similares ofrecidos por la competencia:\n",
        "\n",
        "```sql\n",
        "CREATE TABLE Productos (\n",
        "    ProductoId INT PRIMARY KEY IDENTITY(1,1),\n",
        "    NombreProducto VARCHAR(100) NOT NULL,\n",
        "    Precio DECIMAL(10,2) NOT NULL,\n",
        "    Categoria VARCHAR(50) NOT NULL\n",
        ");\n",
        "\n",
        "CREATE TABLE CompetenciaPrecios (\n",
        "    CompetenciaId INT PRIMARY KEY IDENTITY(1,1),\n",
        "    NombreProducto VARCHAR(100) NOT NULL,\n",
        "    PrecioCompetencia DECIMAL(10,2) NOT NULL,\n",
        "    Categoria VARCHAR(50) NOT NULL\n",
        ");\n",
        "```\n",
        "\n",
        "**Objetivo:**\n",
        "\n",
        "Crear un procedimiento almacenado llamado `AjustarPreciosCompetitivos` que utilice un cursor para comparar los precios de los productos propios con los de la competencia y ajustar los precios propios en consecuencia.\n",
        "\n",
        "**Requisitos:**\n",
        "\n",
        "1. Declarar un cursor que seleccione `ProductoId`, `Precio`, y `Categoria` de la tabla `Productos`.\n",
        "2. Para cada producto:\n",
        "   - Buscar el precio promedio de la competencia en la misma categoría desde la tabla `CompetenciaPrecios`.\n",
        "   - Si el precio propio es mayor en más de un 5% que el promedio de la competencia, reducir el precio propio en un 5%.\n",
        "   - Si el precio propio es menor en más de un 5%, incrementar el precio propio en un 5%.\n",
        "   - Si la diferencia es menor o igual al 5%, mantener el precio sin cambios.\n",
        "3. Implementar manejo de transacciones para asegurar la consistencia de las actualizaciones.\n",
        "4. Manejar adecuadamente la apertura y cierre del cursor, así como posibles errores durante el proceso de ajuste de precios."
      ]
    },
    {
      "cell_type": "code",
      "execution_count": null,
      "id": "3a9dd073",
      "metadata": {
        "id": "3a9dd073"
      },
      "outputs": [],
      "source": [
        "# Escriba aquí la solución del ejercicio\n",
        "%%sql"
      ]
    },
    {
      "cell_type": "markdown",
      "id": "c2e39d14",
      "metadata": {
        "id": "c2e39d14"
      },
      "source": [
        "## Ejercicio 11: Generación de Resúmenes de Producción\n",
        "\n",
        "**Enunciado:**\n",
        "\n",
        "Tienes una tabla `Produccion` que registra la producción diaria de diferentes líneas de productos:\n",
        "\n",
        "```sql\n",
        "CREATE TABLE Produccion (\n",
        "    ProduccionId INT PRIMARY KEY IDENTITY(1,1),\n",
        "    LineaProduccion VARCHAR(50) NOT NULL,\n",
        "    FechaProduccion DATE NOT NULL,\n",
        "    CantidadProducida INT NOT NULL\n",
        ");\n",
        "\n",
        "CREATE TABLE ResumenProduccion (\n",
        "    ResumenId INT PRIMARY KEY IDENTITY(1,1),\n",
        "    LineaProduccion VARCHAR(50) NOT NULL,\n",
        "    FechaProduccion DATE NOT NULL,\n",
        "    TotalProducido INT NOT NULL\n",
        ");\n",
        "```\n",
        "\n",
        "**Objetivo:**\n",
        "\n",
        "Crear un procedimiento almacenado llamado `GenerarResumenDiario` que utilice un cursor para generar un resumen diario de producción por línea de producción.\n",
        "\n",
        "**Requisitos:**\n",
        "\n",
        "1. Declarar un cursor que seleccione todas las combinaciones únicas de `LineaProduccion` y `FechaProduccion` de la tabla `Produccion`.\n",
        "2. Para cada combinación:\n",
        "   - Calcular la suma total de `CantidadProducida`.\n",
        "   - Insertar un registro en la tabla `ResumenProduccion` con los valores calculados.\n",
        "3. Asegurar que el procedimiento limpie la tabla `ResumenProduccion` antes de generar el nuevo resumen para evitar duplicados.\n",
        "4. Implementar manejo de transacciones para asegurar que todas las inserciones se realicen correctamente.\n",
        "5. Manejar adecuadamente la apertura y cierre del cursor, así como posibles errores durante la generación del resumen."
      ]
    },
    {
      "cell_type": "code",
      "execution_count": null,
      "id": "e3975b4d",
      "metadata": {
        "id": "e3975b4d"
      },
      "outputs": [],
      "source": [
        "# Escriba aquí la solución del ejercicio\n",
        "%%sql"
      ]
    },
    {
      "cell_type": "markdown",
      "id": "01d1f847",
      "metadata": {
        "id": "01d1f847"
      },
      "source": [
        "## Ejercicio 12: Actualización de Inventario Basada en Devoluciones\n",
        "\n",
        "**Enunciado:**\n",
        "\n",
        "Tienes una tabla `Devoluciones` que registra las devoluciones de productos y una tabla `Inventario`:\n",
        "\n",
        "```sql\n",
        "CREATE TABLE Devoluciones (\n",
        "    DevolucionId INT PRIMARY KEY IDENTITY(1,1),\n",
        "    ProductoId INT NOT NULL,\n",
        "    CantidadDevuelta INT NOT NULL,\n",
        "    FechaDevolucion DATE NOT NULL\n",
        ");\n",
        "\n",
        "CREATE TABLE Inventario (\n",
        "    ProductoId INT PRIMARY KEY IDENTITY(1,1),\n",
        "    NombreProducto VARCHAR(100) NOT NULL,\n",
        "    Cantidad INT NOT NULL,\n",
        "    Precio DECIMAL(10,2) NOT NULL\n",
        ");\n",
        "```\n",
        "\n",
        "**Objetivo:**\n",
        "\n",
        "Crear un procedimiento almacenado llamado `ProcesarDevoluciones` que utilice un cursor para procesar todas las devoluciones y actualizar el inventario en consecuencia.\n",
        "\n",
        "**Requisitos:**\n",
        "\n",
        "1. Declarar un cursor que seleccione `ProductoId` y `CantidadDevuelta` de la tabla `Devoluciones`.\n",
        "2. Para cada devolución:\n",
        "   - Actualizar la cantidad en la tabla `Inventario` incrementando la `Cantidad` por la `CantidadDevuelta`.\n",
        "   - (Opcional) Registrar el procesamiento de la devolución en una tabla `HistorialDevoluciones` con detalles de la operación.\n",
        "3. Implementar manejo de transacciones para asegurar que las actualizaciones se realicen correctamente.\n",
        "4. Después de procesar una devolución, marcarla como procesada o eliminarla para evitar re-procesamientos.\n",
        "5. Manejar adecuadamente la apertura y cierre del cursor, así como posibles errores durante el procesamiento."
      ]
    },
    {
      "cell_type": "code",
      "execution_count": null,
      "id": "3a057b0e",
      "metadata": {
        "id": "3a057b0e"
      },
      "outputs": [],
      "source": [
        "# Escriba aquí la solución del ejercicio\n",
        "%%sql"
      ]
    },
    {
      "cell_type": "markdown",
      "id": "4282ccf0",
      "metadata": {
        "id": "4282ccf0"
      },
      "source": [
        "## Ejercicio 13: Validación de Integridad Referencial\n",
        "\n",
        "**Enunciado:**\n",
        "\n",
        "Tienes dos tablas relacionadas: `Ordenes` y `DetalleOrden`:\n",
        "\n",
        "```sql\n",
        "CREATE TABLE Ordenes (\n",
        "    OrdenId INT PRIMARY KEY IDENTITY(1,1),\n",
        "    ClienteId INT NOT NULL,\n",
        "    FechaOrden DATE NOT NULL,\n",
        "    TotalOrden DECIMAL(10,2) NOT NULL\n",
        ");\n",
        "\n",
        "CREATE TABLE DetalleOrden (\n",
        "    DetalleId INT PRIMARY KEY IDENTITY(1,1),\n",
        "    OrdenId INT FOREIGN KEY REFERENCES Ordenes(OrdenId),\n",
        "    ProductoId INT NOT NULL,\n",
        "    Cantidad INT NOT NULL,\n",
        "    PrecioUnitario DECIMAL(10,2) NOT NULL\n",
        ");\n",
        "```\n",
        "\n",
        "**Objetivo:**\n",
        "\n",
        "Crear un procedimiento almacenado llamado `ValidarIntegridadOrdenes` que utilice un cursor para verificar que el `TotalOrden` en la tabla `Ordenes` coincide con la suma de los `PrecioUnitario * Cantidad` en la tabla `DetalleOrden` para cada orden.\n",
        "\n",
        "**Requisitos:**\n",
        "\n",
        "1. Declarar un cursor que seleccione `OrdenId` y `TotalOrden` de la tabla `Ordenes`.\n",
        "2. Para cada orden:\n",
        "   - Calcular la suma de `PrecioUnitario * Cantidad` desde la tabla `DetalleOrden` correspondiente.\n",
        "   - Comparar la suma calculada con el `TotalOrden`.\n",
        "   - Si hay una discrepancia, registrar la orden en una tabla `OrdenesInconsistentes` con detalles de la discrepancia.\n",
        "3. Implementar manejo de transacciones si es necesario (por ejemplo, para actualizaciones o registros de inconsistencias).\n",
        "4. Manejar adecuadamente la apertura y cierre del cursor, así como posibles errores durante la validación.\n",
        "5. (Opcional) Enviar una notificación o alerta para las órdenes inconsistentes encontradas."
      ]
    },
    {
      "cell_type": "code",
      "execution_count": null,
      "id": "3613e1d2",
      "metadata": {
        "id": "3613e1d2"
      },
      "outputs": [],
      "source": [
        "# Escriba aquí la solución del ejercicio\n",
        "%%sql"
      ]
    },
    {
      "cell_type": "markdown",
      "id": "1fbc0236",
      "metadata": {
        "id": "1fbc0236"
      },
      "source": [
        "## Ejercicio 14: Asignación de Recursos en Proyectos\n",
        "\n",
        "**Enunciado:**\n",
        "\n",
        "Tienes dos tablas: `Proyectos` y `RecursosDisponibles`:\n",
        "\n",
        "```sql\n",
        "CREATE TABLE Proyectos (\n",
        "    ProyectoId INT PRIMARY KEY IDENTITY(1,1),\n",
        "    NombreProyecto VARCHAR(100) NOT NULL,\n",
        "    RecursosNecesarios INT NOT NULL,\n",
        "    RecursosAsignados INT DEFAULT 0,\n",
        "    Estado VARCHAR(20) NOT NULL -- Ejemplos: 'Pendiente', 'En Curso', 'Completado'\n",
        ");\n",
        "\n",
        "CREATE TABLE RecursosDisponibles (\n",
        "    RecursoId INT PRIMARY KEY IDENTITY(1,1),\n",
        "    TipoRecurso VARCHAR(50) NOT NULL,\n",
        "    CantidadDisponible INT NOT NULL\n",
        ");\n",
        "```\n",
        "\n",
        "**Objetivo:**\n",
        "\n",
        "Crear un procedimiento almacenado llamado `AsignarRecursosAProyectos` que utilice un cursor para asignar recursos disponibles a los proyectos en estado 'Pendiente'.\n",
        "\n",
        "**Requisitos:**\n",
        "\n",
        "1. Declarar un cursor que seleccione todos los proyectos en estado 'Pendiente', ordenados por `RecursosNecesarios` de mayor a menor.\n",
        "2. Para cada proyecto:\n",
        "   - Verificar si hay suficientes recursos disponibles en `RecursosDisponibles`.\n",
        "   - Si hay suficientes, asignar los recursos al proyecto:\n",
        "     - Incrementar `RecursosAsignados` en la tabla `Proyectos`.\n",
        "     - Decrementar `CantidadDisponible` en la tabla `RecursosDisponibles`.\n",
        "     - Actualizar el estado del proyecto a 'En Curso'.\n",
        "   - Si no hay suficientes recursos, dejar el proyecto en estado 'Pendiente'.\n",
        "3. Implementar manejo de transacciones para asegurar que las asignaciones sean consistentes.\n",
        "4. Manejar adecuadamente la apertura y cierre del cursor, así como posibles errores durante el proceso de asignación."
      ]
    },
    {
      "cell_type": "code",
      "execution_count": null,
      "id": "10a1b367",
      "metadata": {
        "id": "10a1b367"
      },
      "outputs": [],
      "source": [
        "# Escriba aquí la solución del ejercicio\n",
        "%%sql"
      ]
    },
    {
      "cell_type": "markdown",
      "id": "7670f827",
      "metadata": {
        "id": "7670f827"
      },
      "source": [
        "## Ejercicio 15: Auditoría de Accesos\n",
        "\n",
        "**Enunciado:**\n",
        "\n",
        "Tienes una tabla `Accesos` que registra los accesos de usuarios al sistema:\n",
        "\n",
        "```sql\n",
        "CREATE TABLE Accesos (\n",
        "    AccesoId INT PRIMARY KEY IDENTITY(1,1),\n",
        "    UsuarioId INT NOT NULL,\n",
        "    FechaAcceso DATETIME NOT NULL,\n",
        "    DireccionIP VARCHAR(45) NOT NULL\n",
        ");\n",
        "\n",
        "CREATE TABLE AuditoriaAccesos (\n",
        "    AuditoriaId INT PRIMARY KEY IDENTITY(1,1),\n",
        "    UsuarioId INT NOT NULL,\n",
        "    FechaAcceso DATETIME NOT NULL,\n",
        "    DireccionIP VARCHAR(45) NOT NULL,\n",
        "    EstadoAcceso VARCHAR(20) NOT NULL -- Ejemplos: 'Exitoso', 'Fallido'\n",
        ");\n",
        "```\n",
        "\n",
        "**Objetivo:**\n",
        "\n",
        "Crear un procedimiento almacenado llamado `AuditarAccesos` que utilice un cursor para revisar los accesos recientes y determinar si son legítimos o sospechosos basándose en ciertos criterios (por ejemplo, múltiples intentos fallidos desde la misma IP).\n",
        "\n",
        "**Requisitos:**\n",
        "\n",
        "1. Declarar un cursor que seleccione los últimos 100 registros de la tabla `Accesos`.\n",
        "2. Para cada acceso:\n",
        "   - Verificar si hay más de 3 intentos de acceso fallidos desde la misma `DireccionIP` en las últimas 24 horas.\n",
        "   - Si se detecta una actividad sospechosa, marcar el `EstadoAcceso` como 'Fallido'; de lo contrario, 'Exitoso'.\n",
        "   - Insertar un registro en la tabla `AuditoriaAccesos` con los detalles y el `EstadoAcceso` determinado.\n",
        "3. Implementar manejo de transacciones para asegurar que todas las auditorías se registren correctamente.\n",
        "4. Manejar adecuadamente la apertura y cierre del cursor, así como posibles errores durante el proceso de auditoría.\n"
      ]
    },
    {
      "cell_type": "code",
      "execution_count": null,
      "id": "a0ac0e69",
      "metadata": {
        "id": "a0ac0e69"
      },
      "outputs": [],
      "source": [
        "# Escriba aquí la solución del ejercicio\n",
        "%%sql"
      ]
    },
    {
      "cell_type": "markdown",
      "id": "af441008",
      "metadata": {
        "id": "af441008"
      },
      "source": [
        "## Ejercicio 16: Consolidación de Feedback de Clientes\n",
        "\n",
        "**Enunciado:**\n",
        "\n",
        "Tienes dos tablas: `FeedbackClientes` y `ResumenFeedback`:\n",
        "\n",
        "```sql\n",
        "CREATE TABLE FeedbackClientes (\n",
        "    FeedbackId INT PRIMARY KEY IDENTITY(1,1),\n",
        "    ClienteId INT NOT NULL,\n",
        "    Comentario VARCHAR(500) NOT NULL,\n",
        "    Calificacion INT NOT NULL, -- 1 a 5\n",
        "    FechaFeedback DATE NOT NULL\n",
        ");\n",
        "\n",
        "CREATE TABLE ResumenFeedback (\n",
        "    ResumenId INT PRIMARY KEY IDENTITY(1,1),\n",
        "    ClienteId INT NOT NULL,\n",
        "    ComentariosTotales INT NOT NULL,\n",
        "    CalificacionPromedio DECIMAL(3,2) NOT NULL,\n",
        "    FechaResumen DATE NOT NULL\n",
        ");\n",
        "```\n",
        "\n",
        "**Objetivo:**\n",
        "\n",
        "Crear un procedimiento almacenado llamado `ConsolidarFeedback` que utilice un cursor para procesar los comentarios de los clientes y generar un resumen por cliente.\n",
        "\n",
        "**Requisitos:**\n",
        "\n",
        "1. Declarar un cursor que seleccione todos los registros de `FeedbackClientes`.\n",
        "2. Para cada feedback:\n",
        "   - Calcular la cantidad total de comentarios y la calificación promedio para cada `ClienteId`.\n",
        "   - Insertar o actualizar un registro en `ResumenFeedback` con los valores calculados y la fecha actual.\n",
        "3. Implementar manejo de transacciones para asegurar la consistencia de los datos durante la consolidación.\n",
        "4. Manejar adecuadamente la apertura y cierre del cursor, así como posibles errores durante el proceso.\n"
      ]
    },
    {
      "cell_type": "code",
      "execution_count": null,
      "id": "8d56871c",
      "metadata": {
        "id": "8d56871c"
      },
      "outputs": [],
      "source": [
        "# Escriba aquí la solución del ejercicio\n",
        "%%sql"
      ]
    },
    {
      "cell_type": "markdown",
      "id": "0aff3341",
      "metadata": {
        "id": "0aff3341"
      },
      "source": [
        "## Ejercicio 17: Monitoreo de Temperaturas en Dispositivos IoT\n",
        "\n",
        "**Enunciado:**\n",
        "\n",
        "Tienes una tabla `LecturasTemperatura` que almacena las lecturas de temperatura de diferentes dispositivos IoT:\n",
        "\n",
        "```sql\n",
        "CREATE TABLE LecturasTemperatura (\n",
        "    LecturaId INT PRIMARY KEY IDENTITY(1,1),\n",
        "    DispositivoId INT NOT NULL,\n",
        "    Temperatura DECIMAL(5,2) NOT NULL,\n",
        "    FechaLectura DATETIME NOT NULL\n",
        ");\n",
        "\n",
        "CREATE TABLE AlertasTemperatura (\n",
        "    AlertaId INT PRIMARY KEY IDENTITY(1,1),\n",
        "    DispositivoId INT NOT NULL,\n",
        "    Temperatura DECIMAL(5,2) NOT NULL,\n",
        "    FechaAlerta DATETIME NOT NULL,\n",
        "    Mensaje VARCHAR(255) NOT NULL\n",
        ");\n",
        "```\n",
        "\n",
        "**Objetivo:**\n",
        "\n",
        "Crear un procedimiento almacenado llamado `MonitorearTemperaturas` que utilice un cursor para revisar las últimas lecturas de temperatura y generar alertas si la temperatura excede ciertos umbrales.\n",
        "\n",
        "**Requisitos:**\n",
        "\n",
        "1. Declarar un cursor que seleccione las últimas 100 lecturas de la tabla `LecturasTemperatura`.\n",
        "2. Para cada lectura:\n",
        "   - Si la `Temperatura` es mayor a 75°C, generar una alerta con el mensaje \"Temperatura Alta\".\n",
        "   - Si la `Temperatura` es menor a 0°C, generar una alerta con el mensaje \"Temperatura Baja\".\n",
        "   - Insertar un registro en la tabla `AlertasTemperatura` con los detalles de la alerta.\n",
        "3. Implementar manejo de transacciones para asegurar que las inserciones de alertas se realicen correctamente.\n",
        "4. Manejar adecuadamente la apertura y cierre del cursor, así como posibles errores durante el proceso de monitoreo.\n"
      ]
    },
    {
      "cell_type": "code",
      "execution_count": null,
      "id": "dcd5bf37",
      "metadata": {
        "id": "dcd5bf37"
      },
      "outputs": [],
      "source": [
        "# Escriba aquí la solución del ejercicio\n",
        "%%sql"
      ]
    },
    {
      "cell_type": "markdown",
      "id": "9130e137",
      "metadata": {
        "id": "9130e137"
      },
      "source": [
        "## Ejercicio 18: Actualización de Status de Proyectos Basada en Fechas\n",
        "\n",
        "**Enunciado:**\n",
        "\n",
        "Tienes una tabla `Proyectos` que contiene información sobre diferentes proyectos en una empresa:\n",
        "\n",
        "```sql\n",
        "CREATE TABLE Proyectos (\n",
        "    ProyectoId INT PRIMARY KEY IDENTITY(1,1),\n",
        "    NombreProyecto VARCHAR(100) NOT NULL,\n",
        "    FechaInicio DATE NOT NULL,\n",
        "    FechaFin DATE,\n",
        "    Estado VARCHAR(20) NOT NULL -- Ejemplos: 'En Curso', 'Completado', 'Retrasado'\n",
        ");\n",
        "```\n",
        "\n",
        "**Objetivo:**\n",
        "\n",
        "Crear un procedimiento almacenado llamado `ActualizarStatusProyectos` que utilice un cursor para revisar cada proyecto y actualizar su estado basado en la fecha actual y la fecha de finalización prevista.\n",
        "\n",
        "**Requisitos:**\n",
        "\n",
        "1. Declarar un cursor que seleccione `ProyectoId`, `FechaInicio`, `FechaFin`, y `Estado` de todos los proyectos.\n",
        "2. Para cada proyecto:\n",
        "   - Si la `FechaFin` está definida y la fecha actual es mayor que `FechaFin` y el estado no es 'Completado', actualizar el estado a 'Retrasado'.\n",
        "   - Si la `FechaFin` está definida y la fecha actual es igual o menor que `FechaFin` y el estado es 'Retrasado', actualizar el estado a 'En Curso'.\n",
        "   - Si el proyecto ya está 'Completado', no realizar cambios.\n",
        "3. Implementar manejo de transacciones para asegurar que las actualizaciones se realicen correctamente.\n",
        "4. Manejar adecuadamente la apertura y cierre del cursor, así como posibles errores durante el proceso de actualización."
      ]
    },
    {
      "cell_type": "code",
      "execution_count": 1,
      "id": "06502c1e",
      "metadata": {
        "colab": {
          "base_uri": "https://localhost:8080/"
        },
        "id": "06502c1e",
        "outputId": "fb7a0155-8837-43a1-95ef-fd51651e97a4"
      },
      "outputs": [
        {
          "output_type": "stream",
          "name": "stderr",
          "text": [
            "UsageError: Cell magic `%%sql` not found.\n"
          ]
        }
      ],
      "source": [
        "# Escriba aquí la solución del ejercicio\n",
        "%%sql\n",
        "INSERT INTO Proyectos (NombreProyecto, FechaInicio, FechaFin, Estado) VALUES\n",
        "    ('Proyecto A', '2023-01-01', '2023-06-01', 'Completado'),\n",
        "    ('Proyecto B', '2023-02-01', '2024-05-01', 'En Curso'),\n",
        "    ('Proyecto C', '2023-03-01', '2023-07-01', 'Retrasado'),\n",
        "    ('Proyecto D', '2023-04-01', '2023-12-01', 'En Curso'),\n",
        "    ('Proyecto E', '2023-05-01', NULL, 'En Curso'),\n",
        "    ('Proyecto K', '2023-01-10', '2023-05-15', 'Completado'),\n",
        "    ('Proyecto L', '2023-06-01', '2023-11-01', 'En Curso'),\n",
        "    ('Proyecto M', '2023-07-01', '2023-09-30', 'En Curso'),\n",
        "    ('Proyecto N', '2023-09-01', '2023-10-15', 'Retrasado'),\n",
        "    ('Proyecto O', '2023-10-01', NULL, 'En Curso');"
      ]
    },
    {
      "cell_type": "code",
      "source": [
        "# Adjuntamos el codigo de mysql que ejecutamos en MySql-WorkBench\n",
        "%%sql\n",
        "  DELIMITER //\n",
        "  CREATE PROCEDURE ActualizarStatusProyectos()\n",
        "  BEGIN\n",
        "      DECLARE done INT DEFAULT 0;\n",
        "      DECLARE ProyectoId INT;\n",
        "      DECLARE FechaInicio DATE;\n",
        "      DECLARE FechaFin DATE;\n",
        "      DECLARE Estado VARCHAR(50);\n",
        "\n",
        "      DECLARE Cursor1 CURSOR FOR\n",
        "          SELECT ProyectoId, FechaInicio, FechaFin, Estado FROM Proyectos;\n",
        "\n",
        "      DECLARE CONTINUE HANDLER FOR NOT FOUND SET done = 1;\n",
        "\n",
        "      START TRANSACTION;\n",
        "      OPEN Cursor1;\n",
        "\n",
        "      FETCH Cursor1 INTO ProyectoId, FechaInicio, FechaFin, Estado;\n",
        "\n",
        "      WHILE done = 0 DO\n",
        "          IF FechaFin IS NOT NULL AND CURDATE() > FechaFin AND Estado != 'Completado' THEN\n",
        "              UPDATE Proyectos SET Estado = 'Retrasado' WHERE ProyectoId = ProyectoId;\n",
        "          ELSEIF FechaFin IS NOT NULL AND CURDATE() <= FechaFin AND Estado = 'Retrasado' THEN\n",
        "              UPDATE Proyectos SET Estado = 'En Curso' WHERE ProyectoId = ProyectoId;\n",
        "          END IF;\n",
        "\n",
        "          FETCH Cursor1 INTO ProyectoId, FechaInicio, FechaFin, Estado;\n",
        "      END WHILE;\n",
        "\n",
        "      CLOSE Cursor1;\n",
        "      COMMIT;\n",
        "  END //\n",
        "  DELIMITER ;\n",
        "\n",
        "  CALL ActualizarStatusProyectos();\n",
        "  SELECT * FROM Proyectos;"
      ],
      "metadata": {
        "id": "JhlIBQ3pEGW9"
      },
      "id": "JhlIBQ3pEGW9",
      "execution_count": null,
      "outputs": []
    }
  ],
  "metadata": {
    "language_info": {
      "name": "python"
    },
    "colab": {
      "provenance": []
    },
    "kernelspec": {
      "name": "python3",
      "display_name": "Python 3"
    }
  },
  "nbformat": 4,
  "nbformat_minor": 5
}