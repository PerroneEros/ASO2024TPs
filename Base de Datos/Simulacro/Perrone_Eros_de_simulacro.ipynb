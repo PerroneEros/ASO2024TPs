{
  "cells": [
    {
      "cell_type": "markdown",
      "source": [
        "# Código de inicialización\n",
        "Este código permite inicializar las bibliotecas para usar SQLite en la máquina virtual de Google Colab. El código además elimina cualquier dato almacenado anteriormente en el archvio `ejemplos.db`. Es recomendable volver a correr el código cada vez que se comience con la resolución de un nuevo ejercicio."
      ],
      "metadata": {
        "id": "QuMn1Lbbdz7p"
      },
      "id": "QuMn1Lbbdz7p"
    },
    {
      "cell_type": "code",
      "source": [
        "!pip install pymysql\n",
        "%load_ext sql\n",
        "!rm -rf ejemplos.db\n",
        "%sql sqlite:///ejemplos.db"
      ],
      "metadata": {
        "id": "DRIupxipNuoC",
        "colab": {
          "base_uri": "https://localhost:8080/"
        },
        "outputId": "8a195c5f-86b2-4903-9256-0e01c4469f9a"
      },
      "id": "DRIupxipNuoC",
      "execution_count": 1,
      "outputs": [
        {
          "output_type": "stream",
          "name": "stdout",
          "text": [
            "Collecting pymysql\n",
            "  Downloading PyMySQL-1.1.1-py3-none-any.whl.metadata (4.4 kB)\n",
            "Downloading PyMySQL-1.1.1-py3-none-any.whl (44 kB)\n",
            "\u001b[?25l   \u001b[90m━━━━━━━━━━━━━━━━━━━━━━━━━━━━━━━━━━━━━━━━\u001b[0m \u001b[32m0.0/45.0 kB\u001b[0m \u001b[31m?\u001b[0m eta \u001b[36m-:--:--\u001b[0m\r\u001b[2K   \u001b[90m━━━━━━━━━━━━━━━━━━━━━━━━━━━━━━━━━━━━━━━━\u001b[0m \u001b[32m45.0/45.0 kB\u001b[0m \u001b[31m3.0 MB/s\u001b[0m eta \u001b[36m0:00:00\u001b[0m\n",
            "\u001b[?25hInstalling collected packages: pymysql\n",
            "Successfully installed pymysql-1.1.1\n"
          ]
        }
      ]
    },
    {
      "cell_type": "markdown",
      "source": [
        "# SIMULACRO DE PARCIAL"
      ],
      "metadata": {
        "id": "cVK-sijYVIH5"
      },
      "id": "cVK-sijYVIH5"
    },
    {
      "cell_type": "markdown",
      "metadata": {
        "id": "NsVx4_K4NiXp"
      },
      "source": [
        "## Venta de pasajes aéreos ✈️\n",
        "\n",
        "El esquema de la base de datos debe incluir las siguientes dos tablas con sus respectivos campos:\n",
        "\n",
        "1. **Vuelos**\n",
        "   - `VueloID` (INTEGER, PRIMARY KEY, AUTOINCREMENT)\n",
        "   - `Aerolinea` (TEXT, NOT NULL)\n",
        "   - `Destino` (TEXT, NOT NULL)\n",
        "   - `Precio` (REAL, NOT NULL)\n",
        "\n",
        "2. **Reservas**\n",
        "   - `ReservaID` (INTEGER, PRIMARY KEY, AUTOINCREMENT)\n",
        "   - `VueloID` (INTEGER, FOREIGN KEY → Vuelos.VueloID)\n",
        "   - `Pasajero` (TEXT, NOT NULL)\n",
        "   - `Estado` (TEXT, NOT NULL) *(Valores permitidos: 'Confirmada', 'Cancelada', 'Pendiente')*\n",
        "\n",
        "#### 3.2. **Reglas y Restricciones**\n",
        "\n",
        "- **Integridad Referencial:** `VueloID` en la tabla `Reservas` debe corresponder a un `VueloID` existente en la tabla `Vuelos`.\n",
        "- **Estados de Reservas:** Limitar los valores del campo `Estado` a 'Confirmada', 'Cancelada' y 'Pendiente'.\n",
        "- **Datos Validados:** Asegurar que los campos obligatorios no queden vacíos y que los formatos de datos sean correctos."
      ],
      "id": "NsVx4_K4NiXp"
    },
    {
      "cell_type": "code",
      "execution_count": 2,
      "metadata": {
        "id": "k5xOpu04NiXr",
        "colab": {
          "base_uri": "https://localhost:8080/"
        },
        "outputId": "c556112f-d1d2-457b-bdcc-89b530ff230e"
      },
      "outputs": [
        {
          "output_type": "stream",
          "name": "stdout",
          "text": [
            " * sqlite:///ejemplos.db\n",
            "Done.\n",
            "Done.\n"
          ]
        },
        {
          "output_type": "execute_result",
          "data": {
            "text/plain": [
              "[]"
            ]
          },
          "metadata": {},
          "execution_count": 2
        }
      ],
      "source": [
        "%%sql\n",
        "-- Escribe aquí el código DDL para crear las tablas Vueos y Reservas\n",
        "-- Creación de la tabla Vuelos\n",
        "CREATE TABLE Vuelos (\n",
        "    VueloID INTEGER PRIMARY KEY AUTOINCREMENT,\n",
        "    Aerolinea TEXT NOT NULL,\n",
        "    Destino TEXT NOT NULL,\n",
        "    Precio REAL NOT NULL\n",
        ");\n",
        "\n",
        "-- Creación de la tabla Reservas\n",
        "CREATE TABLE Reservas (\n",
        "    ReservaID INTEGER PRIMARY KEY AUTOINCREMENT,\n",
        "    VueloID INTEGER NOT NULL,\n",
        "    Pasajero TEXT NOT NULL,\n",
        "    Estado TEXT NOT NULL CHECK (Estado IN ('Confirmada', 'Cancelada', 'Pendiente')),\n",
        "    FOREIGN KEY (VueloID) REFERENCES Vuelos (VueloID)\n",
        ");\n"
      ],
      "id": "k5xOpu04NiXr"
    },
    {
      "cell_type": "markdown",
      "metadata": {
        "id": "im4yKrVtNiXt"
      },
      "source": [
        "**Rellenado de la tabla Ventas**\n",
        "\n"
      ],
      "id": "im4yKrVtNiXt"
    },
    {
      "cell_type": "code",
      "execution_count": 3,
      "id": "71b6196d",
      "metadata": {
        "id": "71b6196d",
        "colab": {
          "base_uri": "https://localhost:8080/"
        },
        "outputId": "7b193d9e-4b43-4439-f021-ac03d792e7d1"
      },
      "outputs": [
        {
          "output_type": "stream",
          "name": "stdout",
          "text": [
            " * sqlite:///ejemplos.db\n",
            "15 rows affected.\n",
            "27 rows affected.\n"
          ]
        },
        {
          "output_type": "execute_result",
          "data": {
            "text/plain": [
              "[]"
            ]
          },
          "metadata": {},
          "execution_count": 3
        }
      ],
      "source": [
        "# Población de la tabla Ventas\n",
        "# Insertar datos en la tabla Ventas\n",
        "%%sql\n",
        "\n",
        "\n",
        "INSERT INTO Vuelos (Aerolinea, Destino, Precio) VALUES\n",
        "('Aerolínea A', 'Ciudad X', 150.0),\n",
        "('Aerolínea B', 'Ciudad Y', 200.0),\n",
        "('Aerolínea A', 'Ciudad Z', 180.0),\n",
        "('Aerolínea C', 'Ciudad X', 220.0),\n",
        "('Aerolínea B', 'Ciudad W', 170.0),\n",
        "('Aerolínea D', 'Ciudad Y', 160.0),\n",
        "('Aerolínea E', 'Ciudad Z', 190.0),\n",
        "('Aerolínea C', 'Ciudad W', 210.0),\n",
        "('Aerolínea D', 'Ciudad X', 175.0),\n",
        "('Aerolínea E', 'Ciudad Y', 205.0),\n",
        "('Aerolínea A', 'Ciudad W', 165.0),\n",
        "('Aerolínea B', 'Ciudad X', 185.0),\n",
        "('Aerolínea C', 'Ciudad Y', 195.0),\n",
        "('Aerolínea D', 'Ciudad Z', 225.0),\n",
        "('Aerolínea E', 'Ciudad W', 230.0);\n",
        "\n",
        "INSERT INTO Reservas (VueloID, Pasajero, Estado) VALUES\n",
        "-- Pasajeros con múltiples reservas a diferentes destinos\n",
        "(1, 'Juan Pérez', 'Confirmada'),\n",
        "(2, 'María Gómez', 'Pendiente'),\n",
        "(1, 'Juan Pérez', 'Confirmada'),\n",
        "(3, 'Ana Martínez', 'Confirmada'),\n",
        "(5, 'Ana Martínez', 'Confirmada'),\n",
        "(4, 'Elena Sánchez', 'Pendiente'),\n",
        "(5, 'Pedro García', 'Confirmada'),\n",
        "(3, 'Lucía Fernández', 'Confirmada'),\n",
        "(4, 'Miguel Díaz', 'Cancelada'),\n",
        "(5, 'Sofía Ramírez', 'Confirmada'),\n",
        "(6, 'Diego Torres', 'Confirmada'),\n",
        "(7, 'Laura Morales', 'Pendiente'),\n",
        "(8, 'Andrés Castillo', 'Confirmada'),\n",
        "(6, 'Paula Reyes', 'Confirmada'),\n",
        "(9, 'Fernando Blanco', 'Cancelada'),\n",
        "(10, 'Isabel Cruz', 'Confirmada'),\n",
        "(11, 'Ricardo Vargas', 'Confirmada'),\n",
        "(12, 'Daniela Soto', 'Pendiente'),\n",
        "(13, 'Gabriel Rojas', 'Confirmada'),\n",
        "(14, 'Valentina Ruiz', 'Confirmada'),\n",
        "(15, 'Sergio Herrera', 'Cancelada'),\n",
        "(16, 'Patricia Molina', 'Confirmada'),\n",
        "(17, 'Patricia Molina', 'Confirmada'),\n",
        "(18, 'Jorge Vargas', 'Confirmada'),\n",
        "(19, 'Mónica Bravo', 'Pendiente'),\n",
        "(20, 'Fernando Paredes', 'Confirmada'),\n",
        "(21, 'Natalia González', 'Confirmada');\n",
        "\n"
      ]
    },
    {
      "cell_type": "markdown",
      "metadata": {
        "id": "622zROEDNiXt"
      },
      "source": [
        "**Consignas del ejercicio:**\n",
        "\n",
        "1. **Obtener el Número de Reservas Confirmadas por Aerolínea:**\n",
        "   - **Descripción:** Contar cuántas reservas están confirmadas para cada aerolínea.\n",
        "   - **Consulta:**\n"
      ],
      "id": "622zROEDNiXt"
    },
    {
      "cell_type": "code",
      "execution_count": 4,
      "metadata": {
        "id": "zuIw9B9UNiXu",
        "colab": {
          "base_uri": "https://localhost:8080/",
          "height": 175
        },
        "outputId": "e4d12045-b48e-494f-f640-49a0ebc2be8b"
      },
      "outputs": [
        {
          "output_type": "stream",
          "name": "stdout",
          "text": [
            " * sqlite:///ejemplos.db\n",
            "Done.\n"
          ]
        },
        {
          "output_type": "execute_result",
          "data": {
            "text/plain": [
              "[('Aerolínea A', 5),\n",
              " ('Aerolínea B', 3),\n",
              " ('Aerolínea C', 2),\n",
              " ('Aerolínea D', 3),\n",
              " ('Aerolínea E', 1)]"
            ],
            "text/html": [
              "<table>\n",
              "    <thead>\n",
              "        <tr>\n",
              "            <th>Aerolinea</th>\n",
              "            <th>Reservas_Confirmadas</th>\n",
              "        </tr>\n",
              "    </thead>\n",
              "    <tbody>\n",
              "        <tr>\n",
              "            <td>Aerolínea A</td>\n",
              "            <td>5</td>\n",
              "        </tr>\n",
              "        <tr>\n",
              "            <td>Aerolínea B</td>\n",
              "            <td>3</td>\n",
              "        </tr>\n",
              "        <tr>\n",
              "            <td>Aerolínea C</td>\n",
              "            <td>2</td>\n",
              "        </tr>\n",
              "        <tr>\n",
              "            <td>Aerolínea D</td>\n",
              "            <td>3</td>\n",
              "        </tr>\n",
              "        <tr>\n",
              "            <td>Aerolínea E</td>\n",
              "            <td>1</td>\n",
              "        </tr>\n",
              "    </tbody>\n",
              "</table>"
            ]
          },
          "metadata": {},
          "execution_count": 4
        }
      ],
      "source": [
        "%%sql\n",
        "SELECT V.Aerolinea, COUNT(R.ReservaID) AS Reservas_Confirmadas\n",
        "FROM Reservas R\n",
        "JOIN Vuelos V ON R.VueloID = V.VueloID\n",
        "WHERE R.Estado = 'Confirmada'\n",
        "GROUP BY V.Aerolinea;"
      ],
      "id": "zuIw9B9UNiXu"
    },
    {
      "cell_type": "markdown",
      "id": "b96bb132",
      "metadata": {
        "id": "b96bb132"
      },
      "source": [
        "2. **Listar las Aerolíneas con Más de 2 Reservas Confirmadas:**\n",
        "   - **Descripción:** Identificar las aerolíneas que tienen más de dos reservas confirmadas. El resultado debe mostrarse en orden descendente según la cantidad de reservas.\n",
        "   - **Consulta:**"
      ]
    },
    {
      "cell_type": "code",
      "execution_count": 5,
      "metadata": {
        "id": "ACqNMaDGNiXu",
        "colab": {
          "base_uri": "https://localhost:8080/",
          "height": 134
        },
        "outputId": "555dde3a-2a80-435c-ac89-126cdc9fc803"
      },
      "outputs": [
        {
          "output_type": "stream",
          "name": "stdout",
          "text": [
            " * sqlite:///ejemplos.db\n",
            "Done.\n"
          ]
        },
        {
          "output_type": "execute_result",
          "data": {
            "text/plain": [
              "[('Aerolínea A', 5), ('Aerolínea D', 3), ('Aerolínea B', 3)]"
            ],
            "text/html": [
              "<table>\n",
              "    <thead>\n",
              "        <tr>\n",
              "            <th>Aerolinea</th>\n",
              "            <th>Reservas_Confirmadas</th>\n",
              "        </tr>\n",
              "    </thead>\n",
              "    <tbody>\n",
              "        <tr>\n",
              "            <td>Aerolínea A</td>\n",
              "            <td>5</td>\n",
              "        </tr>\n",
              "        <tr>\n",
              "            <td>Aerolínea D</td>\n",
              "            <td>3</td>\n",
              "        </tr>\n",
              "        <tr>\n",
              "            <td>Aerolínea B</td>\n",
              "            <td>3</td>\n",
              "        </tr>\n",
              "    </tbody>\n",
              "</table>"
            ]
          },
          "metadata": {},
          "execution_count": 5
        }
      ],
      "source": [
        "%%sql\n",
        "SELECT V.Aerolinea, COUNT(R.ReservaID) AS Reservas_Confirmadas\n",
        "FROM Reservas R\n",
        "JOIN Vuelos V ON R.VueloID = V.VueloID\n",
        "WHERE R.Estado = 'Confirmada'\n",
        "GROUP BY V.Aerolinea\n",
        "HAVING COUNT(R.ReservaID) > 2\n",
        "ORDER BY Reservas_Confirmadas DESC;"
      ],
      "id": "ACqNMaDGNiXu"
    },
    {
      "cell_type": "markdown",
      "id": "7a6a43fe",
      "metadata": {
        "id": "7a6a43fe"
      },
      "source": [
        "3. **Calcular el Ingreso Total por Aerolínea a partir de Reservas Confirmadas:**\n",
        "   - **Descripción:** Sumar los precios de los vuelos que tienen reservas confirmadas para cada aerolínea.\n",
        "   - **Consulta:**"
      ]
    },
    {
      "cell_type": "code",
      "execution_count": 6,
      "metadata": {
        "id": "kzhBe0qENiXv",
        "colab": {
          "base_uri": "https://localhost:8080/",
          "height": 175
        },
        "outputId": "0e64e423-60b6-4b06-b09e-9b22c633d35c"
      },
      "outputs": [
        {
          "output_type": "stream",
          "name": "stdout",
          "text": [
            " * sqlite:///ejemplos.db\n",
            "Done.\n"
          ]
        },
        {
          "output_type": "execute_result",
          "data": {
            "text/plain": [
              "[('Aerolínea A', 825.0),\n",
              " ('Aerolínea B', 510.0),\n",
              " ('Aerolínea C', 405.0),\n",
              " ('Aerolínea D', 545.0),\n",
              " ('Aerolínea E', 205.0)]"
            ],
            "text/html": [
              "<table>\n",
              "    <thead>\n",
              "        <tr>\n",
              "            <th>Aerolinea</th>\n",
              "            <th>Ingreso_Total</th>\n",
              "        </tr>\n",
              "    </thead>\n",
              "    <tbody>\n",
              "        <tr>\n",
              "            <td>Aerolínea A</td>\n",
              "            <td>825.0</td>\n",
              "        </tr>\n",
              "        <tr>\n",
              "            <td>Aerolínea B</td>\n",
              "            <td>510.0</td>\n",
              "        </tr>\n",
              "        <tr>\n",
              "            <td>Aerolínea C</td>\n",
              "            <td>405.0</td>\n",
              "        </tr>\n",
              "        <tr>\n",
              "            <td>Aerolínea D</td>\n",
              "            <td>545.0</td>\n",
              "        </tr>\n",
              "        <tr>\n",
              "            <td>Aerolínea E</td>\n",
              "            <td>205.0</td>\n",
              "        </tr>\n",
              "    </tbody>\n",
              "</table>"
            ]
          },
          "metadata": {},
          "execution_count": 6
        }
      ],
      "source": [
        "%%sql\n",
        "SELECT V.Aerolinea, SUM(V.Precio) AS Ingreso_Total\n",
        "FROM Reservas R\n",
        "JOIN Vuelos V ON R.VueloID = V.VueloID\n",
        "WHERE R.Estado = 'Confirmada'\n",
        "GROUP BY V.Aerolinea;"
      ],
      "id": "kzhBe0qENiXv"
    },
    {
      "cell_type": "markdown",
      "source": [
        "4. **Encontrar Destinos con Más de 1 Reserva Confirmada:**\n",
        "   - **Descripción:** Identificar los destinos que tienen más de una reserva confirmada.\n",
        "   - **Consulta:**"
      ],
      "metadata": {
        "id": "prbBoM2yN1XT"
      },
      "id": "prbBoM2yN1XT"
    },
    {
      "cell_type": "code",
      "source": [
        "%%sql\n",
        "SELECT V.Destino, COUNT(R.ReservaID) AS Reservas_Confirmadas\n",
        "FROM Reservas R\n",
        "JOIN Vuelos V ON R.VueloID = V.VueloID\n",
        "WHERE R.Estado = 'Confirmada'\n",
        "GROUP BY V.Destino\n",
        "HAVING COUNT(R.ReservaID) > 1;"
      ],
      "metadata": {
        "colab": {
          "base_uri": "https://localhost:8080/",
          "height": 155
        },
        "id": "IL21G5AzN5Mk",
        "outputId": "fcd93887-4f46-4711-ffa9-6a42673a825b"
      },
      "id": "IL21G5AzN5Mk",
      "execution_count": 7,
      "outputs": [
        {
          "output_type": "stream",
          "name": "stdout",
          "text": [
            " * sqlite:///ejemplos.db\n",
            "Done.\n"
          ]
        },
        {
          "output_type": "execute_result",
          "data": {
            "text/plain": [
              "[('Ciudad W', 5), ('Ciudad X', 2), ('Ciudad Y', 4), ('Ciudad Z', 3)]"
            ],
            "text/html": [
              "<table>\n",
              "    <thead>\n",
              "        <tr>\n",
              "            <th>Destino</th>\n",
              "            <th>Reservas_Confirmadas</th>\n",
              "        </tr>\n",
              "    </thead>\n",
              "    <tbody>\n",
              "        <tr>\n",
              "            <td>Ciudad W</td>\n",
              "            <td>5</td>\n",
              "        </tr>\n",
              "        <tr>\n",
              "            <td>Ciudad X</td>\n",
              "            <td>2</td>\n",
              "        </tr>\n",
              "        <tr>\n",
              "            <td>Ciudad Y</td>\n",
              "            <td>4</td>\n",
              "        </tr>\n",
              "        <tr>\n",
              "            <td>Ciudad Z</td>\n",
              "            <td>3</td>\n",
              "        </tr>\n",
              "    </tbody>\n",
              "</table>"
            ]
          },
          "metadata": {},
          "execution_count": 7
        }
      ]
    },
    {
      "cell_type": "markdown",
      "source": [
        "5. **Obtener la Aerolínea con el Mayor Ingreso Total**\n",
        "\n",
        "- **Descripción:** Identificar qué aerolínea ha generado el mayor ingreso total a partir de reservas confirmadas.\n",
        "- **Consulta:**"
      ],
      "metadata": {
        "id": "KmQF_pN5RUtF"
      },
      "id": "KmQF_pN5RUtF"
    },
    {
      "cell_type": "code",
      "source": [
        "%%sql\n",
        "SELECT V.Aerolinea, SUM(V.Precio) AS Ingreso_Total\n",
        "FROM Reservas R\n",
        "JOIN Vuelos V ON R.VueloID = V.VueloID\n",
        "WHERE R.Estado = 'Confirmada'\n",
        "GROUP BY V.Aerolinea\n",
        "ORDER BY Ingreso_Total DESC\n",
        "LIMIT 1;"
      ],
      "metadata": {
        "colab": {
          "base_uri": "https://localhost:8080/",
          "height": 94
        },
        "id": "zrpwm47sRgUi",
        "outputId": "650d63f8-68ba-411d-e49e-9ffdb6e3a3d3"
      },
      "id": "zrpwm47sRgUi",
      "execution_count": 8,
      "outputs": [
        {
          "output_type": "stream",
          "name": "stdout",
          "text": [
            " * sqlite:///ejemplos.db\n",
            "Done.\n"
          ]
        },
        {
          "output_type": "execute_result",
          "data": {
            "text/plain": [
              "[('Aerolínea A', 825.0)]"
            ],
            "text/html": [
              "<table>\n",
              "    <thead>\n",
              "        <tr>\n",
              "            <th>Aerolinea</th>\n",
              "            <th>Ingreso_Total</th>\n",
              "        </tr>\n",
              "    </thead>\n",
              "    <tbody>\n",
              "        <tr>\n",
              "            <td>Aerolínea A</td>\n",
              "            <td>825.0</td>\n",
              "        </tr>\n",
              "    </tbody>\n",
              "</table>"
            ]
          },
          "metadata": {},
          "execution_count": 8
        }
      ]
    },
    {
      "cell_type": "markdown",
      "source": [
        "6. **Listar los Pasajeros con Reservas en Más de un Destino**\n",
        "\n",
        "- **Descripción:** Identificar a los pasajeros que han reservado vuelos a más de un destino diferente.\n",
        "- **Consulta:**"
      ],
      "metadata": {
        "id": "LZNQH-AmRpw1"
      },
      "id": "LZNQH-AmRpw1"
    },
    {
      "cell_type": "code",
      "source": [
        "%%sql\n",
        "SELECT R.Pasajero, COUNT(DISTINCT V.Destino) AS Destinos_Reservados\n",
        "FROM Reservas R\n",
        "JOIN Vuelos V ON R.VueloID = V.VueloID\n",
        "GROUP BY R.Pasajero\n",
        "HAVING COUNT(DISTINCT V.Destino) > 1;"
      ],
      "metadata": {
        "colab": {
          "base_uri": "https://localhost:8080/",
          "height": 94
        },
        "id": "brNuPzKgRpg4",
        "outputId": "d0c9a929-e043-4c78-f8b0-e759c74881f8"
      },
      "id": "brNuPzKgRpg4",
      "execution_count": 9,
      "outputs": [
        {
          "output_type": "stream",
          "name": "stdout",
          "text": [
            " * sqlite:///ejemplos.db\n",
            "Done.\n"
          ]
        },
        {
          "output_type": "execute_result",
          "data": {
            "text/plain": [
              "[('Ana Martínez', 2)]"
            ],
            "text/html": [
              "<table>\n",
              "    <thead>\n",
              "        <tr>\n",
              "            <th>Pasajero</th>\n",
              "            <th>Destinos_Reservados</th>\n",
              "        </tr>\n",
              "    </thead>\n",
              "    <tbody>\n",
              "        <tr>\n",
              "            <td>Ana Martínez</td>\n",
              "            <td>2</td>\n",
              "        </tr>\n",
              "    </tbody>\n",
              "</table>"
            ]
          },
          "metadata": {},
          "execution_count": 9
        }
      ]
    },
    {
      "cell_type": "markdown",
      "source": [
        "7. **Determinar el Destino Más Popular**\n",
        "\n",
        "- **Descripción:** Encontrar el destino con el mayor número de reservas confirmadas.\n",
        "- **Consulta:**"
      ],
      "metadata": {
        "id": "JZeL0ZaRRzHH"
      },
      "id": "JZeL0ZaRRzHH"
    },
    {
      "cell_type": "code",
      "source": [
        "%%sql\n",
        "SELECT V.Destino, COUNT(R.ReservaID) AS Total_Reservas\n",
        "FROM Reservas R\n",
        "JOIN Vuelos V ON R.VueloID = V.VueloID\n",
        "WHERE R.Estado = 'Confirmada'\n",
        "GROUP BY V.Destino\n",
        "ORDER BY Total_Reservas DESC\n",
        "LIMIT 1;"
      ],
      "metadata": {
        "colab": {
          "base_uri": "https://localhost:8080/",
          "height": 94
        },
        "id": "bB0_bMk8R0lq",
        "outputId": "9bf38faf-5f2b-4e28-940a-ef4bb8928dff"
      },
      "id": "bB0_bMk8R0lq",
      "execution_count": 10,
      "outputs": [
        {
          "output_type": "stream",
          "name": "stdout",
          "text": [
            " * sqlite:///ejemplos.db\n",
            "Done.\n"
          ]
        },
        {
          "output_type": "execute_result",
          "data": {
            "text/plain": [
              "[('Ciudad W', 5)]"
            ],
            "text/html": [
              "<table>\n",
              "    <thead>\n",
              "        <tr>\n",
              "            <th>Destino</th>\n",
              "            <th>Total_Reservas</th>\n",
              "        </tr>\n",
              "    </thead>\n",
              "    <tbody>\n",
              "        <tr>\n",
              "            <td>Ciudad W</td>\n",
              "            <td>5</td>\n",
              "        </tr>\n",
              "    </tbody>\n",
              "</table>"
            ]
          },
          "metadata": {},
          "execution_count": 10
        }
      ]
    },
    {
      "cell_type": "markdown",
      "source": [
        "8. **Calcular el Promedio de Precio por Aerolínea**\n",
        "\n",
        "- **Descripción:** Calcular el precio promedio de los vuelos para cada aerolínea.\n",
        "- **Consulta:**"
      ],
      "metadata": {
        "id": "b9D5lDOUSTMx"
      },
      "id": "b9D5lDOUSTMx"
    },
    {
      "cell_type": "code",
      "source": [
        "%%sql\n",
        "SELECT V.Aerolinea, AVG(V.Precio) AS Precio_Promedio\n",
        "FROM Vuelos V\n",
        "GROUP BY V.Aerolinea;"
      ],
      "metadata": {
        "colab": {
          "base_uri": "https://localhost:8080/",
          "height": 175
        },
        "id": "3Xw19qIJSVYz",
        "outputId": "34e12054-c6a7-4299-eee3-d176393e2abe"
      },
      "id": "3Xw19qIJSVYz",
      "execution_count": 11,
      "outputs": [
        {
          "output_type": "stream",
          "name": "stdout",
          "text": [
            " * sqlite:///ejemplos.db\n",
            "Done.\n"
          ]
        },
        {
          "output_type": "execute_result",
          "data": {
            "text/plain": [
              "[('Aerolínea A', 165.0),\n",
              " ('Aerolínea B', 185.0),\n",
              " ('Aerolínea C', 208.33333333333334),\n",
              " ('Aerolínea D', 186.66666666666666),\n",
              " ('Aerolínea E', 208.33333333333334)]"
            ],
            "text/html": [
              "<table>\n",
              "    <thead>\n",
              "        <tr>\n",
              "            <th>Aerolinea</th>\n",
              "            <th>Precio_Promedio</th>\n",
              "        </tr>\n",
              "    </thead>\n",
              "    <tbody>\n",
              "        <tr>\n",
              "            <td>Aerolínea A</td>\n",
              "            <td>165.0</td>\n",
              "        </tr>\n",
              "        <tr>\n",
              "            <td>Aerolínea B</td>\n",
              "            <td>185.0</td>\n",
              "        </tr>\n",
              "        <tr>\n",
              "            <td>Aerolínea C</td>\n",
              "            <td>208.33333333333334</td>\n",
              "        </tr>\n",
              "        <tr>\n",
              "            <td>Aerolínea D</td>\n",
              "            <td>186.66666666666666</td>\n",
              "        </tr>\n",
              "        <tr>\n",
              "            <td>Aerolínea E</td>\n",
              "            <td>208.33333333333334</td>\n",
              "        </tr>\n",
              "    </tbody>\n",
              "</table>"
            ]
          },
          "metadata": {},
          "execution_count": 11
        }
      ]
    },
    {
      "cell_type": "markdown",
      "source": [
        "Al finalizar el trabajo práctico, deberás entregar:\n",
        "\n",
        "1. **Jupyter Notebook** completo con todas las celdas ejecutadas y resultados visibles. Deberá descargar el archivo ```.ipynb``` en su computadora y subirlo a la tarea del aula virtual.\n",
        "2. **Diagrama Esquena de Tablas**. Debe descargar una imagen del diagrama u subirla a la tarea-\n",
        "\n",
        "### **Criterios de Evaluación**\n",
        "\n",
        "El trabajo práctico será evaluado en función de los siguientes aspectos:\n",
        "\n",
        "- **Diseño del Esquema de la Base de Datos (30%)**\n",
        "  - Correcta definición de las dos tablas.\n",
        "  - Adecuada implementación de claves primarias y foráneas.\n",
        "  - Implementación de restricciones y reglas de integridad.\n",
        "\n",
        "\n",
        "- **Consultas SQL (70%)**\n",
        "  - Correcta ejecución de las consultas solicitadas utilizando `JOIN`, `GROUP BY` y `HAVING`.\n",
        "  - Capacidad para extraer información relevante del sistema.\n"
      ],
      "metadata": {
        "id": "fXEH_UMFOLip"
      },
      "id": "fXEH_UMFOLip"
    }
  ],
  "metadata": {
    "colab": {
      "provenance": []
    },
    "kernelspec": {
      "display_name": "Python 3",
      "name": "python3"
    },
    "language_info": {
      "name": "python"
    }
  },
  "nbformat": 4,
  "nbformat_minor": 5
}
